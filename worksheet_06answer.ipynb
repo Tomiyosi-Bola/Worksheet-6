{
 "cells": [
  {
   "cell_type": "markdown",
   "metadata": {
    "deletable": false,
    "editable": false,
    "lines_to_next_cell": 0,
    "nbgrader": {
     "cell_type": "markdown",
     "checksum": "8da7edd0b3e7c13c44d86f758f26420c",
     "grade": false,
     "grade_id": "cell-a52fdbcf333bb582",
     "locked": true,
     "schema_version": 3,
     "solution": false,
     "task": false
    }
   },
   "source": [
    "# Worksheet 06a: File Input/Output\n",
    "\n",
    "_**Leader**: Victor Yuan **Reviewer:** Almas Khan **ASDA Assist**: David Kepplinger_\n",
    "\n",
    "*Version 0*\n",
    "\n",
    "This is the corresponding worksheet for Class 12 (Oct 20, 2020) & Class 13 (Oct 22, 2020).\n",
    "\n",
    "There are 13 questions. To get 100% on this worksheet, you must get correct 0.4*13 = __5 questions__.\n",
    "\n",
    "Some notes:\n",
    "\n",
    "- Remember to pay attention to the variable name to store your answer in, or else it will not be autograded correctly.\n",
    "- To ensure everything works properly, remember to run all code cells, not just the ones with your answer."
   ]
  },
  {
   "cell_type": "markdown",
   "metadata": {
    "deletable": false,
    "editable": false,
    "lines_to_next_cell": 0,
    "nbgrader": {
     "cell_type": "markdown",
     "checksum": "9a76a5a2add07858350dc5188a69ffaf",
     "grade": false,
     "grade_id": "cell-c67ecef016e98418",
     "locked": true,
     "schema_version": 3,
     "solution": false,
     "task": false
    }
   },
   "source": [
    "If you want to use packages which are not yet installed, you can use the code cell below to install them. You might not have the R package **repex** installed."
   ]
  },
  {
   "cell_type": "code",
   "execution_count": 3,
   "metadata": {},
   "outputs": [
    {
     "name": "stderr",
     "output_type": "stream",
     "text": [
      "Installing package into ‘/home/jupyter/R/x86_64-pc-linux-gnu-library/4.0’\n",
      "(as ‘lib’ is unspecified)\n",
      "\n",
      "Installing package into ‘/home/jupyter/R/x86_64-pc-linux-gnu-library/4.0’\n",
      "(as ‘lib’ is unspecified)\n",
      "\n",
      "Installing package into ‘/home/jupyter/R/x86_64-pc-linux-gnu-library/4.0’\n",
      "(as ‘lib’ is unspecified)\n",
      "\n"
     ]
    }
   ],
   "source": [
    "# Install additional packages, e.g.\n",
    "install.packages(\"here\")\n",
    " install.packages(\"testthat\")\n",
    "install.packages(\"reprex\")"
   ]
  },
  {
   "cell_type": "markdown",
   "metadata": {
    "deletable": false,
    "editable": false,
    "lines_to_next_cell": 0,
    "nbgrader": {
     "cell_type": "markdown",
     "checksum": "b6a7f1bab95d5bb86f82550c3568ba6d",
     "grade": false,
     "grade_id": "cell-3bb1633637c2d81e",
     "locked": true,
     "schema_version": 3,
     "solution": false,
     "task": false
    }
   },
   "source": [
    "Use the following code cell to load any additional packages you want to use for this worksheet."
   ]
  },
  {
   "cell_type": "code",
   "execution_count": 4,
   "metadata": {},
   "outputs": [
    {
     "name": "stderr",
     "output_type": "stream",
     "text": [
      "Loading required package: usethis\n",
      "\n"
     ]
    }
   ],
   "source": [
    "# Load packages, e.g.\n",
    "library(devtools)"
   ]
  },
  {
   "cell_type": "markdown",
   "metadata": {
    "deletable": false,
    "editable": false,
    "nbgrader": {
     "cell_type": "markdown",
     "checksum": "4bd32a1bd38064a5ffb75a75aefa528f",
     "grade": false,
     "grade_id": "cell-4950c9707fd0acb4",
     "locked": true,
     "schema_version": 3,
     "solution": false,
     "task": false
    }
   },
   "source": [
    "Run the code cell below to load the packages."
   ]
  },
  {
   "cell_type": "code",
   "execution_count": 5,
   "metadata": {
    "deletable": false,
    "editable": false,
    "nbgrader": {
     "cell_type": "code",
     "checksum": "900a7578ae02823393bceda3f78ca4f2",
     "grade": false,
     "grade_id": "cell-c48a21406e8bb917",
     "locked": true,
     "schema_version": 3,
     "solution": false,
     "task": false
    }
   },
   "outputs": [],
   "source": [
    "suppressPackageStartupMessages(library(tidyverse))\n",
    "suppressPackageStartupMessages(library(gapminder))\n",
    "suppressPackageStartupMessages(library(here))\n",
    "suppressPackageStartupMessages(library(testthat))\n",
    "suppressPackageStartupMessages(library(reprex))"
   ]
  },
  {
   "cell_type": "markdown",
   "metadata": {
    "deletable": false,
    "editable": false,
    "nbgrader": {
     "cell_type": "markdown",
     "checksum": "84ead830ab6721345d016e08b3100645",
     "grade": false,
     "grade_id": "cell-ff4d90bac29bce18",
     "locked": true,
     "schema_version": 3,
     "solution": false,
     "task": false
    }
   },
   "source": [
    "## TOPIC 1: Writing and reading data from disk\n",
    "\n",
    "For writing R objects to your computer, and reading tabular data into R, we can use the `tidyverse` package `readr`, which is loaded when running `library(tidyverse)`\n",
    "\n",
    "Let’s first load the built-in gapminder dataset and the tidyverse:\n",
    "\n",
    "Next, let’s filter the data only from 2007 and only in the Asia continent and save it to a variable."
   ]
  },
  {
   "cell_type": "code",
   "execution_count": 6,
   "metadata": {
    "deletable": false,
    "editable": false,
    "nbgrader": {
     "cell_type": "code",
     "checksum": "226aac86e0017f0d0f84960c9150d439",
     "grade": false,
     "grade_id": "cell-9d75f3c8b0c06607",
     "locked": true,
     "schema_version": 3,
     "solution": false,
     "task": false
    }
   },
   "outputs": [
    {
     "data": {
      "text/html": [
       "<table>\n",
       "<caption>A tibble: 6 × 6</caption>\n",
       "<thead>\n",
       "\t<tr><th scope=col>country</th><th scope=col>continent</th><th scope=col>year</th><th scope=col>lifeExp</th><th scope=col>pop</th><th scope=col>gdpPercap</th></tr>\n",
       "\t<tr><th scope=col>&lt;fct&gt;</th><th scope=col>&lt;fct&gt;</th><th scope=col>&lt;int&gt;</th><th scope=col>&lt;dbl&gt;</th><th scope=col>&lt;int&gt;</th><th scope=col>&lt;dbl&gt;</th></tr>\n",
       "</thead>\n",
       "<tbody>\n",
       "\t<tr><td>Afghanistan     </td><td>Asia</td><td>2007</td><td>43.828</td><td>  31889923</td><td>  974.5803</td></tr>\n",
       "\t<tr><td>Bahrain         </td><td>Asia</td><td>2007</td><td>75.635</td><td>    708573</td><td>29796.0483</td></tr>\n",
       "\t<tr><td>Bangladesh      </td><td>Asia</td><td>2007</td><td>64.062</td><td> 150448339</td><td> 1391.2538</td></tr>\n",
       "\t<tr><td>Cambodia        </td><td>Asia</td><td>2007</td><td>59.723</td><td>  14131858</td><td> 1713.7787</td></tr>\n",
       "\t<tr><td>China           </td><td>Asia</td><td>2007</td><td>72.961</td><td>1318683096</td><td> 4959.1149</td></tr>\n",
       "\t<tr><td>Hong Kong, China</td><td>Asia</td><td>2007</td><td>82.208</td><td>   6980412</td><td>39724.9787</td></tr>\n",
       "</tbody>\n",
       "</table>\n"
      ],
      "text/latex": [
       "A tibble: 6 × 6\n",
       "\\begin{tabular}{llllll}\n",
       " country & continent & year & lifeExp & pop & gdpPercap\\\\\n",
       " <fct> & <fct> & <int> & <dbl> & <int> & <dbl>\\\\\n",
       "\\hline\n",
       "\t Afghanistan      & Asia & 2007 & 43.828 &   31889923 &   974.5803\\\\\n",
       "\t Bahrain          & Asia & 2007 & 75.635 &     708573 & 29796.0483\\\\\n",
       "\t Bangladesh       & Asia & 2007 & 64.062 &  150448339 &  1391.2538\\\\\n",
       "\t Cambodia         & Asia & 2007 & 59.723 &   14131858 &  1713.7787\\\\\n",
       "\t China            & Asia & 2007 & 72.961 & 1318683096 &  4959.1149\\\\\n",
       "\t Hong Kong, China & Asia & 2007 & 82.208 &    6980412 & 39724.9787\\\\\n",
       "\\end{tabular}\n"
      ],
      "text/markdown": [
       "\n",
       "A tibble: 6 × 6\n",
       "\n",
       "| country &lt;fct&gt; | continent &lt;fct&gt; | year &lt;int&gt; | lifeExp &lt;dbl&gt; | pop &lt;int&gt; | gdpPercap &lt;dbl&gt; |\n",
       "|---|---|---|---|---|---|\n",
       "| Afghanistan      | Asia | 2007 | 43.828 |   31889923 |   974.5803 |\n",
       "| Bahrain          | Asia | 2007 | 75.635 |     708573 | 29796.0483 |\n",
       "| Bangladesh       | Asia | 2007 | 64.062 |  150448339 |  1391.2538 |\n",
       "| Cambodia         | Asia | 2007 | 59.723 |   14131858 |  1713.7787 |\n",
       "| China            | Asia | 2007 | 72.961 | 1318683096 |  4959.1149 |\n",
       "| Hong Kong, China | Asia | 2007 | 82.208 |    6980412 | 39724.9787 |\n",
       "\n"
      ],
      "text/plain": [
       "  country          continent year lifeExp pop        gdpPercap \n",
       "1 Afghanistan      Asia      2007 43.828    31889923   974.5803\n",
       "2 Bahrain          Asia      2007 75.635      708573 29796.0483\n",
       "3 Bangladesh       Asia      2007 64.062   150448339  1391.2538\n",
       "4 Cambodia         Asia      2007 59.723    14131858  1713.7787\n",
       "5 China            Asia      2007 72.961  1318683096  4959.1149\n",
       "6 Hong Kong, China Asia      2007 82.208     6980412 39724.9787"
      ]
     },
     "metadata": {},
     "output_type": "display_data"
    }
   ],
   "source": [
    "gap_asia_2007 <- gapminder %>% filter(year == 2007, continent == \"Asia\")\n",
    "gap_asia_2007 %>%\n",
    "  head()"
   ]
  },
  {
   "cell_type": "markdown",
   "metadata": {
    "deletable": false,
    "editable": false,
    "nbgrader": {
     "cell_type": "markdown",
     "checksum": "b2ef4eab30dc2ea59a253b737df6ded9",
     "grade": false,
     "grade_id": "cell-92d93e5de5944b49",
     "locked": true,
     "schema_version": 3,
     "solution": false,
     "task": false
    }
   },
   "source": [
    "#### Question 1.1\n",
    "\n",
    "Write `gap_asia_2007` to a comma-separated value (csv) file named `exported_file.csv` with just one command:\n",
    "\n",
    "```\n",
    "write_csv(FILL_THIS_IN, \"exported_file.csv\")\n",
    "```"
   ]
  },
  {
   "cell_type": "code",
   "execution_count": 6,
   "metadata": {
    "deletable": false,
    "lines_to_next_cell": 0,
    "nbgrader": {
     "cell_type": "code",
     "checksum": "5745abbebd52c72e7f8187ecaa89b317",
     "grade": false,
     "grade_id": "cell-dc036d146cef2025",
     "locked": false,
     "schema_version": 3,
     "solution": true,
     "task": false
    }
   },
   "outputs": [],
   "source": [
    "# your code here\n",
    "write_csv(gap_asia_2007, \"exported_file.csv\")"
   ]
  },
  {
   "cell_type": "code",
   "execution_count": 7,
   "metadata": {
    "deletable": false,
    "editable": false,
    "nbgrader": {
     "cell_type": "code",
     "checksum": "a0dacd7ccc8c6d6b78d3fb4ddfd274da",
     "grade": true,
     "grade_id": "cell-f8b2ff75e5097542",
     "locked": true,
     "points": 1,
     "schema_version": 3,
     "solution": false,
     "task": false
    }
   },
   "outputs": [
    {
     "name": "stdout",
     "output_type": "stream",
     "text": [
      "[1] \"Success!\"\n"
     ]
    }
   ],
   "source": [
    "test_that(\"Question 1.1\", {\n",
    "    expect_true(file.exists('exported_file.csv'))\n",
    "    with(read.table('exported_file.csv', header = TRUE, sep = ',', stringsAsFactors = FALSE), {\n",
    "        ctr_order <- order(enc2utf8(country), method = 'radix')\n",
    "        expect_known_hash(country[ctr_order], '502e6665c327bdbc211f89c785ee853b')\n",
    "        expect_known_hash(as.integer(pop[ctr_order]), '8bb3c4cc0e3a3380ff82cbd9fe83b2cb')\n",
    "    })\n",
    "})\n",
    "print(\"Success!\")"
   ]
  },
  {
   "cell_type": "markdown",
   "metadata": {
    "deletable": false,
    "editable": false,
    "nbgrader": {
     "cell_type": "markdown",
     "checksum": "970ba1696e811c2f6f1ffccbc4bd52bd",
     "grade": false,
     "grade_id": "cell-95e05c5acbdd7a28",
     "locked": true,
     "schema_version": 3,
     "solution": false,
     "task": false
    }
   },
   "source": [
    "#### Question 1.2\n",
    "\n",
    "Let's use the function `read_csv` to  read in `exported_file.csv` back into R and store this as the variable `gap_asia_2007_in`.\n",
    "\n",
    "```\n",
    "gap_asia_2007_in <- read_csv(\"FILL_THIS_IN\")\n",
    "\n",
    "```"
   ]
  },
  {
   "cell_type": "code",
   "execution_count": 19,
   "metadata": {
    "deletable": false,
    "lines_to_next_cell": 0,
    "nbgrader": {
     "cell_type": "code",
     "checksum": "ef92716bb6c3bf250e28b9f0209c4df2",
     "grade": false,
     "grade_id": "cell-0f65d0f778ec6287",
     "locked": false,
     "schema_version": 3,
     "solution": true,
     "task": false
    }
   },
   "outputs": [
    {
     "name": "stderr",
     "output_type": "stream",
     "text": [
      "Parsed with column specification:\n",
      "cols(\n",
      "  country = \u001b[31mcol_character()\u001b[39m,\n",
      "  continent = \u001b[31mcol_character()\u001b[39m,\n",
      "  year = \u001b[32mcol_double()\u001b[39m,\n",
      "  lifeExp = \u001b[32mcol_double()\u001b[39m,\n",
      "  pop = \u001b[32mcol_double()\u001b[39m,\n",
      "  gdpPercap = \u001b[32mcol_double()\u001b[39m\n",
      ")\n",
      "\n"
     ]
    }
   ],
   "source": [
    "# your code here\n",
    "gap_asia_2007_in <- read_csv(\"exported_file.csv\")"
   ]
  },
  {
   "cell_type": "code",
   "execution_count": 20,
   "metadata": {
    "deletable": false,
    "editable": false,
    "nbgrader": {
     "cell_type": "code",
     "checksum": "db3cdc3adf5d62eb0f6f16000504d5a9",
     "grade": true,
     "grade_id": "cell-8448390b94500381",
     "locked": true,
     "points": 1,
     "schema_version": 3,
     "solution": false,
     "task": false
    }
   },
   "outputs": [
    {
     "name": "stdout",
     "output_type": "stream",
     "text": [
      "[1] \"Success!\"\n"
     ]
    }
   ],
   "source": [
    "test_that(\"Question 1.2\", {\n",
    "    expect_known_hash(colnames(gap_asia_2007_in), 'cc76c54ddad925d63e472c77cd7bd7bf')\n",
    "    expect_known_hash(sapply(gap_asia_2007_in, typeof), '68eb6593a9f582ea9b4aec7862df6be4')\n",
    "    with(gap_asia_2007_in, {\n",
    "        ctr_order <- order(enc2utf8(country), method = 'radix')\n",
    "        expect_known_hash(country[ctr_order], '502e6665c327bdbc211f89c785ee853b')\n",
    "        expect_known_hash(unique(continent), 'a500021b40bafb5d1ad20bed151aab68')\n",
    "        expect_known_hash(round(lifeExp[ctr_order], 2), '9da5c364cf95548c95ea94de3193202b')\n",
    "    })\n",
    "})\n",
    "print(\"Success!\")"
   ]
  },
  {
   "cell_type": "markdown",
   "metadata": {
    "deletable": false,
    "editable": false,
    "nbgrader": {
     "cell_type": "markdown",
     "checksum": "5e0c4ee2111751ff56897037151df37a",
     "grade": false,
     "grade_id": "cell-ab66c1758a1353d7",
     "locked": true,
     "schema_version": 3,
     "solution": false,
     "task": false
    }
   },
   "source": [
    "Notice the output of running `read_csv`. This tells us about the types of variables that were read in. It's a good habit to check this every time you run a `read_` function. Sometimes we might want to change how these variable types are specified...\n",
    "\n",
    "#### Question 1.3\n",
    "\n",
    "Let's use the function `read_csv` to  read in `exported_file.csv` back into R and store this as the variable `gap_asia_2007_in_cspec`.\n",
    "\n",
    "But! This time let's specify that we want the:\n",
    "\n",
    "- columns `country` and `continent` to be `factors`\n",
    "- all other column specification to be automatically determined by `read_csv`\n",
    "\n",
    "```\n",
    "gap_asia_2007_in_cspec <- FILL_THIS_IN(\n",
    "  \"FILL_THIS_IN.csv\", \n",
    "  col_types = cols(\n",
    "    country = col_factor(),\n",
    "    continent = FILL_THIS_IN\n",
    "  ))\n",
    "```"
   ]
  },
  {
   "cell_type": "code",
   "execution_count": 29,
   "metadata": {
    "deletable": false,
    "nbgrader": {
     "cell_type": "code",
     "checksum": "92e1bb9c573f09c27e6ee5cc2c7373c4",
     "grade": false,
     "grade_id": "cell-339f9a2961c1b8f9",
     "locked": false,
     "schema_version": 3,
     "solution": true,
     "task": false
    }
   },
   "outputs": [
    {
     "data": {
      "text/html": [
       "<table>\n",
       "<caption>A spec_tbl_df: 33 × 6</caption>\n",
       "<thead>\n",
       "\t<tr><th scope=col>country</th><th scope=col>continent</th><th scope=col>year</th><th scope=col>lifeExp</th><th scope=col>pop</th><th scope=col>gdpPercap</th></tr>\n",
       "\t<tr><th scope=col>&lt;fct&gt;</th><th scope=col>&lt;fct&gt;</th><th scope=col>&lt;dbl&gt;</th><th scope=col>&lt;dbl&gt;</th><th scope=col>&lt;dbl&gt;</th><th scope=col>&lt;dbl&gt;</th></tr>\n",
       "</thead>\n",
       "<tbody>\n",
       "\t<tr><td>Afghanistan       </td><td>Asia</td><td>2007</td><td>43.828</td><td>  31889923</td><td>  974.5803</td></tr>\n",
       "\t<tr><td>Bahrain           </td><td>Asia</td><td>2007</td><td>75.635</td><td>    708573</td><td>29796.0483</td></tr>\n",
       "\t<tr><td>Bangladesh        </td><td>Asia</td><td>2007</td><td>64.062</td><td> 150448339</td><td> 1391.2538</td></tr>\n",
       "\t<tr><td>Cambodia          </td><td>Asia</td><td>2007</td><td>59.723</td><td>  14131858</td><td> 1713.7787</td></tr>\n",
       "\t<tr><td>China             </td><td>Asia</td><td>2007</td><td>72.961</td><td>1318683096</td><td> 4959.1149</td></tr>\n",
       "\t<tr><td>Hong Kong, China  </td><td>Asia</td><td>2007</td><td>82.208</td><td>   6980412</td><td>39724.9787</td></tr>\n",
       "\t<tr><td>India             </td><td>Asia</td><td>2007</td><td>64.698</td><td>1110396331</td><td> 2452.2104</td></tr>\n",
       "\t<tr><td>Indonesia         </td><td>Asia</td><td>2007</td><td>70.650</td><td> 223547000</td><td> 3540.6516</td></tr>\n",
       "\t<tr><td>Iran              </td><td>Asia</td><td>2007</td><td>70.964</td><td>  69453570</td><td>11605.7145</td></tr>\n",
       "\t<tr><td>Iraq              </td><td>Asia</td><td>2007</td><td>59.545</td><td>  27499638</td><td> 4471.0619</td></tr>\n",
       "\t<tr><td>Israel            </td><td>Asia</td><td>2007</td><td>80.745</td><td>   6426679</td><td>25523.2771</td></tr>\n",
       "\t<tr><td>Japan             </td><td>Asia</td><td>2007</td><td>82.603</td><td> 127467972</td><td>31656.0681</td></tr>\n",
       "\t<tr><td>Jordan            </td><td>Asia</td><td>2007</td><td>72.535</td><td>   6053193</td><td> 4519.4612</td></tr>\n",
       "\t<tr><td>Korea, Dem. Rep.  </td><td>Asia</td><td>2007</td><td>67.297</td><td>  23301725</td><td> 1593.0655</td></tr>\n",
       "\t<tr><td>Korea, Rep.       </td><td>Asia</td><td>2007</td><td>78.623</td><td>  49044790</td><td>23348.1397</td></tr>\n",
       "\t<tr><td>Kuwait            </td><td>Asia</td><td>2007</td><td>77.588</td><td>   2505559</td><td>47306.9898</td></tr>\n",
       "\t<tr><td>Lebanon           </td><td>Asia</td><td>2007</td><td>71.993</td><td>   3921278</td><td>10461.0587</td></tr>\n",
       "\t<tr><td>Malaysia          </td><td>Asia</td><td>2007</td><td>74.241</td><td>  24821286</td><td>12451.6558</td></tr>\n",
       "\t<tr><td>Mongolia          </td><td>Asia</td><td>2007</td><td>66.803</td><td>   2874127</td><td> 3095.7723</td></tr>\n",
       "\t<tr><td>Myanmar           </td><td>Asia</td><td>2007</td><td>62.069</td><td>  47761980</td><td>  944.0000</td></tr>\n",
       "\t<tr><td>Nepal             </td><td>Asia</td><td>2007</td><td>63.785</td><td>  28901790</td><td> 1091.3598</td></tr>\n",
       "\t<tr><td>Oman              </td><td>Asia</td><td>2007</td><td>75.640</td><td>   3204897</td><td>22316.1929</td></tr>\n",
       "\t<tr><td>Pakistan          </td><td>Asia</td><td>2007</td><td>65.483</td><td> 169270617</td><td> 2605.9476</td></tr>\n",
       "\t<tr><td>Philippines       </td><td>Asia</td><td>2007</td><td>71.688</td><td>  91077287</td><td> 3190.4810</td></tr>\n",
       "\t<tr><td>Saudi Arabia      </td><td>Asia</td><td>2007</td><td>72.777</td><td>  27601038</td><td>21654.8319</td></tr>\n",
       "\t<tr><td>Singapore         </td><td>Asia</td><td>2007</td><td>79.972</td><td>   4553009</td><td>47143.1796</td></tr>\n",
       "\t<tr><td>Sri Lanka         </td><td>Asia</td><td>2007</td><td>72.396</td><td>  20378239</td><td> 3970.0954</td></tr>\n",
       "\t<tr><td>Syria             </td><td>Asia</td><td>2007</td><td>74.143</td><td>  19314747</td><td> 4184.5481</td></tr>\n",
       "\t<tr><td>Taiwan            </td><td>Asia</td><td>2007</td><td>78.400</td><td>  23174294</td><td>28718.2768</td></tr>\n",
       "\t<tr><td>Thailand          </td><td>Asia</td><td>2007</td><td>70.616</td><td>  65068149</td><td> 7458.3963</td></tr>\n",
       "\t<tr><td>Vietnam           </td><td>Asia</td><td>2007</td><td>74.249</td><td>  85262356</td><td> 2441.5764</td></tr>\n",
       "\t<tr><td>West Bank and Gaza</td><td>Asia</td><td>2007</td><td>73.422</td><td>   4018332</td><td> 3025.3498</td></tr>\n",
       "\t<tr><td>Yemen, Rep.       </td><td>Asia</td><td>2007</td><td>62.698</td><td>  22211743</td><td> 2280.7699</td></tr>\n",
       "</tbody>\n",
       "</table>\n"
      ],
      "text/latex": [
       "A spec\\_tbl\\_df: 33 × 6\n",
       "\\begin{tabular}{llllll}\n",
       " country & continent & year & lifeExp & pop & gdpPercap\\\\\n",
       " <fct> & <fct> & <dbl> & <dbl> & <dbl> & <dbl>\\\\\n",
       "\\hline\n",
       "\t Afghanistan        & Asia & 2007 & 43.828 &   31889923 &   974.5803\\\\\n",
       "\t Bahrain            & Asia & 2007 & 75.635 &     708573 & 29796.0483\\\\\n",
       "\t Bangladesh         & Asia & 2007 & 64.062 &  150448339 &  1391.2538\\\\\n",
       "\t Cambodia           & Asia & 2007 & 59.723 &   14131858 &  1713.7787\\\\\n",
       "\t China              & Asia & 2007 & 72.961 & 1318683096 &  4959.1149\\\\\n",
       "\t Hong Kong, China   & Asia & 2007 & 82.208 &    6980412 & 39724.9787\\\\\n",
       "\t India              & Asia & 2007 & 64.698 & 1110396331 &  2452.2104\\\\\n",
       "\t Indonesia          & Asia & 2007 & 70.650 &  223547000 &  3540.6516\\\\\n",
       "\t Iran               & Asia & 2007 & 70.964 &   69453570 & 11605.7145\\\\\n",
       "\t Iraq               & Asia & 2007 & 59.545 &   27499638 &  4471.0619\\\\\n",
       "\t Israel             & Asia & 2007 & 80.745 &    6426679 & 25523.2771\\\\\n",
       "\t Japan              & Asia & 2007 & 82.603 &  127467972 & 31656.0681\\\\\n",
       "\t Jordan             & Asia & 2007 & 72.535 &    6053193 &  4519.4612\\\\\n",
       "\t Korea, Dem. Rep.   & Asia & 2007 & 67.297 &   23301725 &  1593.0655\\\\\n",
       "\t Korea, Rep.        & Asia & 2007 & 78.623 &   49044790 & 23348.1397\\\\\n",
       "\t Kuwait             & Asia & 2007 & 77.588 &    2505559 & 47306.9898\\\\\n",
       "\t Lebanon            & Asia & 2007 & 71.993 &    3921278 & 10461.0587\\\\\n",
       "\t Malaysia           & Asia & 2007 & 74.241 &   24821286 & 12451.6558\\\\\n",
       "\t Mongolia           & Asia & 2007 & 66.803 &    2874127 &  3095.7723\\\\\n",
       "\t Myanmar            & Asia & 2007 & 62.069 &   47761980 &   944.0000\\\\\n",
       "\t Nepal              & Asia & 2007 & 63.785 &   28901790 &  1091.3598\\\\\n",
       "\t Oman               & Asia & 2007 & 75.640 &    3204897 & 22316.1929\\\\\n",
       "\t Pakistan           & Asia & 2007 & 65.483 &  169270617 &  2605.9476\\\\\n",
       "\t Philippines        & Asia & 2007 & 71.688 &   91077287 &  3190.4810\\\\\n",
       "\t Saudi Arabia       & Asia & 2007 & 72.777 &   27601038 & 21654.8319\\\\\n",
       "\t Singapore          & Asia & 2007 & 79.972 &    4553009 & 47143.1796\\\\\n",
       "\t Sri Lanka          & Asia & 2007 & 72.396 &   20378239 &  3970.0954\\\\\n",
       "\t Syria              & Asia & 2007 & 74.143 &   19314747 &  4184.5481\\\\\n",
       "\t Taiwan             & Asia & 2007 & 78.400 &   23174294 & 28718.2768\\\\\n",
       "\t Thailand           & Asia & 2007 & 70.616 &   65068149 &  7458.3963\\\\\n",
       "\t Vietnam            & Asia & 2007 & 74.249 &   85262356 &  2441.5764\\\\\n",
       "\t West Bank and Gaza & Asia & 2007 & 73.422 &    4018332 &  3025.3498\\\\\n",
       "\t Yemen, Rep.        & Asia & 2007 & 62.698 &   22211743 &  2280.7699\\\\\n",
       "\\end{tabular}\n"
      ],
      "text/markdown": [
       "\n",
       "A spec_tbl_df: 33 × 6\n",
       "\n",
       "| country &lt;fct&gt; | continent &lt;fct&gt; | year &lt;dbl&gt; | lifeExp &lt;dbl&gt; | pop &lt;dbl&gt; | gdpPercap &lt;dbl&gt; |\n",
       "|---|---|---|---|---|---|\n",
       "| Afghanistan        | Asia | 2007 | 43.828 |   31889923 |   974.5803 |\n",
       "| Bahrain            | Asia | 2007 | 75.635 |     708573 | 29796.0483 |\n",
       "| Bangladesh         | Asia | 2007 | 64.062 |  150448339 |  1391.2538 |\n",
       "| Cambodia           | Asia | 2007 | 59.723 |   14131858 |  1713.7787 |\n",
       "| China              | Asia | 2007 | 72.961 | 1318683096 |  4959.1149 |\n",
       "| Hong Kong, China   | Asia | 2007 | 82.208 |    6980412 | 39724.9787 |\n",
       "| India              | Asia | 2007 | 64.698 | 1110396331 |  2452.2104 |\n",
       "| Indonesia          | Asia | 2007 | 70.650 |  223547000 |  3540.6516 |\n",
       "| Iran               | Asia | 2007 | 70.964 |   69453570 | 11605.7145 |\n",
       "| Iraq               | Asia | 2007 | 59.545 |   27499638 |  4471.0619 |\n",
       "| Israel             | Asia | 2007 | 80.745 |    6426679 | 25523.2771 |\n",
       "| Japan              | Asia | 2007 | 82.603 |  127467972 | 31656.0681 |\n",
       "| Jordan             | Asia | 2007 | 72.535 |    6053193 |  4519.4612 |\n",
       "| Korea, Dem. Rep.   | Asia | 2007 | 67.297 |   23301725 |  1593.0655 |\n",
       "| Korea, Rep.        | Asia | 2007 | 78.623 |   49044790 | 23348.1397 |\n",
       "| Kuwait             | Asia | 2007 | 77.588 |    2505559 | 47306.9898 |\n",
       "| Lebanon            | Asia | 2007 | 71.993 |    3921278 | 10461.0587 |\n",
       "| Malaysia           | Asia | 2007 | 74.241 |   24821286 | 12451.6558 |\n",
       "| Mongolia           | Asia | 2007 | 66.803 |    2874127 |  3095.7723 |\n",
       "| Myanmar            | Asia | 2007 | 62.069 |   47761980 |   944.0000 |\n",
       "| Nepal              | Asia | 2007 | 63.785 |   28901790 |  1091.3598 |\n",
       "| Oman               | Asia | 2007 | 75.640 |    3204897 | 22316.1929 |\n",
       "| Pakistan           | Asia | 2007 | 65.483 |  169270617 |  2605.9476 |\n",
       "| Philippines        | Asia | 2007 | 71.688 |   91077287 |  3190.4810 |\n",
       "| Saudi Arabia       | Asia | 2007 | 72.777 |   27601038 | 21654.8319 |\n",
       "| Singapore          | Asia | 2007 | 79.972 |    4553009 | 47143.1796 |\n",
       "| Sri Lanka          | Asia | 2007 | 72.396 |   20378239 |  3970.0954 |\n",
       "| Syria              | Asia | 2007 | 74.143 |   19314747 |  4184.5481 |\n",
       "| Taiwan             | Asia | 2007 | 78.400 |   23174294 | 28718.2768 |\n",
       "| Thailand           | Asia | 2007 | 70.616 |   65068149 |  7458.3963 |\n",
       "| Vietnam            | Asia | 2007 | 74.249 |   85262356 |  2441.5764 |\n",
       "| West Bank and Gaza | Asia | 2007 | 73.422 |    4018332 |  3025.3498 |\n",
       "| Yemen, Rep.        | Asia | 2007 | 62.698 |   22211743 |  2280.7699 |\n",
       "\n"
      ],
      "text/plain": [
       "   country            continent year lifeExp pop        gdpPercap \n",
       "1  Afghanistan        Asia      2007 43.828    31889923   974.5803\n",
       "2  Bahrain            Asia      2007 75.635      708573 29796.0483\n",
       "3  Bangladesh         Asia      2007 64.062   150448339  1391.2538\n",
       "4  Cambodia           Asia      2007 59.723    14131858  1713.7787\n",
       "5  China              Asia      2007 72.961  1318683096  4959.1149\n",
       "6  Hong Kong, China   Asia      2007 82.208     6980412 39724.9787\n",
       "7  India              Asia      2007 64.698  1110396331  2452.2104\n",
       "8  Indonesia          Asia      2007 70.650   223547000  3540.6516\n",
       "9  Iran               Asia      2007 70.964    69453570 11605.7145\n",
       "10 Iraq               Asia      2007 59.545    27499638  4471.0619\n",
       "11 Israel             Asia      2007 80.745     6426679 25523.2771\n",
       "12 Japan              Asia      2007 82.603   127467972 31656.0681\n",
       "13 Jordan             Asia      2007 72.535     6053193  4519.4612\n",
       "14 Korea, Dem. Rep.   Asia      2007 67.297    23301725  1593.0655\n",
       "15 Korea, Rep.        Asia      2007 78.623    49044790 23348.1397\n",
       "16 Kuwait             Asia      2007 77.588     2505559 47306.9898\n",
       "17 Lebanon            Asia      2007 71.993     3921278 10461.0587\n",
       "18 Malaysia           Asia      2007 74.241    24821286 12451.6558\n",
       "19 Mongolia           Asia      2007 66.803     2874127  3095.7723\n",
       "20 Myanmar            Asia      2007 62.069    47761980   944.0000\n",
       "21 Nepal              Asia      2007 63.785    28901790  1091.3598\n",
       "22 Oman               Asia      2007 75.640     3204897 22316.1929\n",
       "23 Pakistan           Asia      2007 65.483   169270617  2605.9476\n",
       "24 Philippines        Asia      2007 71.688    91077287  3190.4810\n",
       "25 Saudi Arabia       Asia      2007 72.777    27601038 21654.8319\n",
       "26 Singapore          Asia      2007 79.972     4553009 47143.1796\n",
       "27 Sri Lanka          Asia      2007 72.396    20378239  3970.0954\n",
       "28 Syria              Asia      2007 74.143    19314747  4184.5481\n",
       "29 Taiwan             Asia      2007 78.400    23174294 28718.2768\n",
       "30 Thailand           Asia      2007 70.616    65068149  7458.3963\n",
       "31 Vietnam            Asia      2007 74.249    85262356  2441.5764\n",
       "32 West Bank and Gaza Asia      2007 73.422     4018332  3025.3498\n",
       "33 Yemen, Rep.        Asia      2007 62.698    22211743  2280.7699"
      ]
     },
     "metadata": {},
     "output_type": "display_data"
    }
   ],
   "source": [
    "# your code here\n",
    "gap_asia_2007_in_cspec <- read_csv(\n",
    "  \"exported_file.csv\", \n",
    "  col_types = cols(\n",
    "    country = col_factor(),\n",
    "    continent = col_factor()\n",
    "  ))\n",
    "gap_asia_2007_in_cspec"
   ]
  },
  {
   "cell_type": "code",
   "execution_count": 30,
   "metadata": {
    "deletable": false,
    "editable": false,
    "nbgrader": {
     "cell_type": "code",
     "checksum": "91e5fdeb28a11a06894e64fe2a0e8ab9",
     "grade": true,
     "grade_id": "cell-0667fd5ae48a80f6",
     "locked": true,
     "points": 0,
     "schema_version": 3,
     "solution": false,
     "task": false
    }
   },
   "outputs": [
    {
     "name": "stdout",
     "output_type": "stream",
     "text": [
      "[1] \"Success!\"\n"
     ]
    }
   ],
   "source": [
    "test_that(\"Question 1.2\", {\n",
    "    expect_known_hash(sapply(gap_asia_2007_in_cspec, typeof), 'd3ed7d3a07fad8143eb7dd22d88d62a3')\n",
    "    with(gap_asia_2007_in_cspec, {\n",
    "        expect_known_hash(sort(enc2utf8(levels(country)), method = 'radix'), '502e6665c327bdbc211f89c785ee853b')\n",
    "        expect_known_hash(as.integer(continent), 'ccdd4647040ccea8f1863ae5e101edf9')\n",
    "    })\n",
    "})\n",
    "print(\"Success!\")"
   ]
  },
  {
   "cell_type": "markdown",
   "metadata": {
    "deletable": false,
    "editable": false,
    "nbgrader": {
     "cell_type": "markdown",
     "checksum": "a1cfc9cb844356c01b45be50c4acc441",
     "grade": false,
     "grade_id": "cell-d2c47ea01eefe9d8",
     "locked": true,
     "schema_version": 3,
     "solution": false,
     "task": false
    }
   },
   "source": [
    "### Filepaths with `here::here()`\n",
    "\n",
    "Up until now, we always wrote and read files to our current directory. If we wanted to use a different folder on our computer, we could specify something like: \n",
    "\n",
    "- `Documents/STAT545/exported_file.csv` - Mac uses forward slashes\n",
    "- `Documents\\STAT545\\exported_file.csv` - Windows uses backward slashes\n",
    "\n",
    "However, if you wanted to make your Rproj more portable and accessible to more users in a cross-platform (between Mac, Unix, Windows users), rather than specifying every path explicitly, `here::here()` allows you to set relative paths much more easily.\n",
    "\n",
    "#### Question 1.4\n",
    "\n",
    "First, run the function `here::here()`. Note where this location is on your computer.\n",
    "\n",
    "Second, use your file browser to go to the location returned by `here::here()`, create a folder called **\"worksheet_06a_data\"**.\n",
    "\n",
    "Lastly,  filter `gap_asia_2007` to when `country` is equal to `\"Pakistan\"`. Then, write this to a `csv` file in your newly created folder called *\"worksheet_06a_data\"*.\n",
    "\n",
    "```\n",
    "here::here()\n",
    "write_csv(gap_asia_2007, FILL_THIS_IN(\"worksheet_06a_data\", FILL_THIS_IN.csv))\n",
    "```"
   ]
  },
  {
   "cell_type": "code",
   "execution_count": 31,
   "metadata": {
    "deletable": false,
    "lines_to_next_cell": 0,
    "nbgrader": {
     "cell_type": "code",
     "checksum": "7be5618c3256dd82efd204024798f8cb",
     "grade": false,
     "grade_id": "cell-537277f01997b17c",
     "locked": false,
     "schema_version": 3,
     "solution": true,
     "task": false
    }
   },
   "outputs": [
    {
     "data": {
      "text/html": [
       "'/home/jupyter'"
      ],
      "text/latex": [
       "'/home/jupyter'"
      ],
      "text/markdown": [
       "'/home/jupyter'"
      ],
      "text/plain": [
       "[1] \"/home/jupyter\""
      ]
     },
     "metadata": {},
     "output_type": "display_data"
    }
   ],
   "source": [
    "# your code here\n",
    "here::here()\n",
    "gap_asia_2007 %>%\n",
    "    #filter (country == \"Pakistan\") %>%\n",
    "    write_csv(here::here(\"worksheet_06a_data\", \"here_exported_file.csv\"))"
   ]
  },
  {
   "cell_type": "code",
   "execution_count": 32,
   "metadata": {
    "deletable": false,
    "editable": false,
    "nbgrader": {
     "cell_type": "code",
     "checksum": "bbc52340ccdea7fcb6a716d9c821738a",
     "grade": true,
     "grade_id": "cell-5aacbda4d51ef339",
     "locked": true,
     "points": 1,
     "schema_version": 3,
     "solution": false,
     "task": false
    }
   },
   "outputs": [
    {
     "ename": "ERROR",
     "evalue": "Error: Test failed: 'Question 1.4'\n* <text>:2: dir.exists(here::here(\"worksheet_06a_data\")) isn't true.\n* <text>:3: file.exists(here::here(\"worksheet_06a_data\", \"here_exported_file.csv\")) isn't true.\n* <text>:4: tools::md5sum(\"exported_file.csv\")[1] absent from tools::md5sum(here::here(\"worksheet_06a_data\", \"here_exported_file.csv\"))\n* <text>:4: tools::md5sum(here::here(\"worksheet_06a_data\", \"here_exported_file.csv\"))[1] absent from tools::md5sum(\"exported_file.csv\")\n* <text>:5: cannot open the connection\n\u001b[1mBacktrace:\u001b[22m\n\u001b[90m 1. \u001b[39mbase::with(...)\n\u001b[90m 2. \u001b[39mutils::read.table(...)\n\u001b[90m 3. \u001b[39mbase::file(file, \"rt\")\n",
     "output_type": "error",
     "traceback": [
      "Error: Test failed: 'Question 1.4'\n* <text>:2: dir.exists(here::here(\"worksheet_06a_data\")) isn't true.\n* <text>:3: file.exists(here::here(\"worksheet_06a_data\", \"here_exported_file.csv\")) isn't true.\n* <text>:4: tools::md5sum(\"exported_file.csv\")[1] absent from tools::md5sum(here::here(\"worksheet_06a_data\", \"here_exported_file.csv\"))\n* <text>:4: tools::md5sum(here::here(\"worksheet_06a_data\", \"here_exported_file.csv\"))[1] absent from tools::md5sum(\"exported_file.csv\")\n* <text>:5: cannot open the connection\n\u001b[1mBacktrace:\u001b[22m\n\u001b[90m 1. \u001b[39mbase::with(...)\n\u001b[90m 2. \u001b[39mutils::read.table(...)\n\u001b[90m 3. \u001b[39mbase::file(file, \"rt\")\nTraceback:\n",
      "1. test_that(\"Question 1.4\", {\n .     expect_true(dir.exists(here::here(\"worksheet_06a_data\")))\n .     expect_true(file.exists(here::here(\"worksheet_06a_data\", \n .         \"here_exported_file.csv\")))\n .     expect_setequal(tools::md5sum(\"exported_file.csv\"), tools::md5sum(here::here(\"worksheet_06a_data\", \n .         \"here_exported_file.csv\")))\n .     with(read.table(here::here(\"worksheet_06a_data\", \"here_exported_file.csv\"), \n .         header = TRUE, sep = \",\", stringsAsFactors = FALSE), \n .         {\n .             ctr_order <- order(enc2utf8(country), method = \"radix\")\n .             expect_known_hash(country[ctr_order], \"502e6665c327bdbc211f89c785ee853b\")\n .             expect_known_hash(round(gdpPercap[ctr_order], 2), \n .                 \"78771a63570dc79433e9587793969a73\")\n .         })\n . })",
      "2. test_code(desc, code, env = parent.frame())",
      "3. get_reporter()$end_test(context = get_reporter()$.context, test = test)",
      "4. stop(message, call. = FALSE)"
     ]
    }
   ],
   "source": [
    "test_that(\"Question 1.4\", {\n",
    "    expect_true(dir.exists(here::here('worksheet_06a_data')))\n",
    "    expect_true(file.exists(here::here('worksheet_06a_data', 'here_exported_file.csv')))\n",
    "    expect_setequal(tools::md5sum(\"exported_file.csv\"), tools::md5sum(here::here('worksheet_06a_data', 'here_exported_file.csv')))\n",
    "    with(read.table(here::here('worksheet_06a_data', 'here_exported_file.csv'), header = TRUE, sep = ',', stringsAsFactors = FALSE), {\n",
    "        ctr_order <- order(enc2utf8(country), method = 'radix')\n",
    "        expect_known_hash(country[ctr_order], '502e6665c327bdbc211f89c785ee853b')\n",
    "        expect_known_hash(round(gdpPercap[ctr_order], 2), '78771a63570dc79433e9587793969a73')\n",
    "    })\n",
    "})\n",
    "print(\"Success!\")"
   ]
  },
  {
   "cell_type": "markdown",
   "metadata": {
    "deletable": false,
    "editable": false,
    "nbgrader": {
     "cell_type": "markdown",
     "checksum": "1fabee93003b87f208471325cb4ee7cc",
     "grade": false,
     "grade_id": "cell-a975ab4304a67a30",
     "locked": true,
     "schema_version": 3,
     "solution": false,
     "task": false
    }
   },
   "source": [
    "## TOPIC 2: Base R\n",
    "\n",
    "For this section, avoid using `tidyverse` functions when possible.\n",
    "\n",
    "#### Question 2.1\n",
    "\n",
    "First, let's assign the alphabet to the vector `alphabet`:"
   ]
  },
  {
   "cell_type": "code",
   "execution_count": 9,
   "metadata": {
    "deletable": false,
    "editable": false,
    "nbgrader": {
     "cell_type": "code",
     "checksum": "d156f91892f0e9404fdbb5d5a09acf1b",
     "grade": false,
     "grade_id": "cell-5701189332505a69",
     "locked": true,
     "schema_version": 3,
     "solution": false,
     "task": false
    }
   },
   "outputs": [
    {
     "data": {
      "text/html": [
       "<style>\n",
       ".list-inline {list-style: none; margin:0; padding: 0}\n",
       ".list-inline>li {display: inline-block}\n",
       ".list-inline>li:not(:last-child)::after {content: \"\\00b7\"; padding: 0 .5ex}\n",
       "</style>\n",
       "<ol class=list-inline><li>'A'</li><li>'B'</li><li>'C'</li><li>'D'</li><li>'E'</li><li>'F'</li><li>'G'</li><li>'H'</li><li>'I'</li><li>'J'</li><li>'K'</li><li>'L'</li><li>'M'</li><li>'N'</li><li>'O'</li><li>'P'</li><li>'Q'</li><li>'R'</li><li>'S'</li><li>'T'</li><li>'U'</li><li>'V'</li><li>'W'</li><li>'X'</li><li>'Y'</li><li>'Z'</li></ol>\n"
      ],
      "text/latex": [
       "\\begin{enumerate*}\n",
       "\\item 'A'\n",
       "\\item 'B'\n",
       "\\item 'C'\n",
       "\\item 'D'\n",
       "\\item 'E'\n",
       "\\item 'F'\n",
       "\\item 'G'\n",
       "\\item 'H'\n",
       "\\item 'I'\n",
       "\\item 'J'\n",
       "\\item 'K'\n",
       "\\item 'L'\n",
       "\\item 'M'\n",
       "\\item 'N'\n",
       "\\item 'O'\n",
       "\\item 'P'\n",
       "\\item 'Q'\n",
       "\\item 'R'\n",
       "\\item 'S'\n",
       "\\item 'T'\n",
       "\\item 'U'\n",
       "\\item 'V'\n",
       "\\item 'W'\n",
       "\\item 'X'\n",
       "\\item 'Y'\n",
       "\\item 'Z'\n",
       "\\end{enumerate*}\n"
      ],
      "text/markdown": [
       "1. 'A'\n",
       "2. 'B'\n",
       "3. 'C'\n",
       "4. 'D'\n",
       "5. 'E'\n",
       "6. 'F'\n",
       "7. 'G'\n",
       "8. 'H'\n",
       "9. 'I'\n",
       "10. 'J'\n",
       "11. 'K'\n",
       "12. 'L'\n",
       "13. 'M'\n",
       "14. 'N'\n",
       "15. 'O'\n",
       "16. 'P'\n",
       "17. 'Q'\n",
       "18. 'R'\n",
       "19. 'S'\n",
       "20. 'T'\n",
       "21. 'U'\n",
       "22. 'V'\n",
       "23. 'W'\n",
       "24. 'X'\n",
       "25. 'Y'\n",
       "26. 'Z'\n",
       "\n",
       "\n"
      ],
      "text/plain": [
       " [1] \"A\" \"B\" \"C\" \"D\" \"E\" \"F\" \"G\" \"H\" \"I\" \"J\" \"K\" \"L\" \"M\" \"N\" \"O\" \"P\" \"Q\" \"R\" \"S\"\n",
       "[20] \"T\" \"U\" \"V\" \"W\" \"X\" \"Y\" \"Z\""
      ]
     },
     "metadata": {},
     "output_type": "display_data"
    }
   ],
   "source": [
    "(alphabet <- LETTERS)"
   ]
  },
  {
   "cell_type": "markdown",
   "metadata": {
    "deletable": false,
    "editable": false,
    "nbgrader": {
     "cell_type": "markdown",
     "checksum": "13107db044140775079678f60d63439e",
     "grade": false,
     "grade_id": "cell-49df2e07dc37ef51",
     "locked": true,
     "schema_version": 3,
     "solution": false,
     "task": false
    }
   },
   "source": [
    "Use `[]` to subset the 3rd and 7th element of the vector `alphabet`, and assign this to an R object called `a2.1`. \n",
    "\n",
    "```\n",
    "a2.1 <- alphabet[FILL_THIS_IN]\n",
    "```"
   ]
  },
  {
   "cell_type": "code",
   "execution_count": 10,
   "metadata": {
    "deletable": false,
    "lines_to_next_cell": 0,
    "nbgrader": {
     "cell_type": "code",
     "checksum": "ad6a8549874c86a85b1e4d341e4cecbe",
     "grade": false,
     "grade_id": "cell-b79dc64b081f578c",
     "locked": false,
     "schema_version": 3,
     "solution": true,
     "task": false
    }
   },
   "outputs": [
    {
     "data": {
      "text/html": [
       "<style>\n",
       ".list-inline {list-style: none; margin:0; padding: 0}\n",
       ".list-inline>li {display: inline-block}\n",
       ".list-inline>li:not(:last-child)::after {content: \"\\00b7\"; padding: 0 .5ex}\n",
       "</style>\n",
       "<ol class=list-inline><li>'C'</li><li>'G'</li></ol>\n"
      ],
      "text/latex": [
       "\\begin{enumerate*}\n",
       "\\item 'C'\n",
       "\\item 'G'\n",
       "\\end{enumerate*}\n"
      ],
      "text/markdown": [
       "1. 'C'\n",
       "2. 'G'\n",
       "\n",
       "\n"
      ],
      "text/plain": [
       "[1] \"C\" \"G\""
      ]
     },
     "metadata": {},
     "output_type": "display_data"
    }
   ],
   "source": [
    "# your code here\n",
    "a2.1 <- alphabet[c(3,7)]\n",
    "a2.1"
   ]
  },
  {
   "cell_type": "code",
   "execution_count": 11,
   "metadata": {
    "deletable": false,
    "editable": false,
    "nbgrader": {
     "cell_type": "code",
     "checksum": "89b224371952fd3deba58d01623a2d49",
     "grade": true,
     "grade_id": "cell-e34eff454c51eedd",
     "locked": true,
     "points": 1,
     "schema_version": 3,
     "solution": false,
     "task": false
    }
   },
   "outputs": [
    {
     "name": "stdout",
     "output_type": "stream",
     "text": [
      "[1] \"Success!\"\n"
     ]
    }
   ],
   "source": [
    "test_that(\"Question 2.1\", expect_known_hash(a2.1, '548ed661cd18d7e1c902348697727011'))\n",
    "print(\"Success!\")"
   ]
  },
  {
   "cell_type": "markdown",
   "metadata": {
    "deletable": false,
    "editable": false,
    "nbgrader": {
     "cell_type": "markdown",
     "checksum": "35da1f2f40c16e1878b68104713f774d",
     "grade": false,
     "grade_id": "cell-6fe136fd3a220c57",
     "locked": true,
     "schema_version": 3,
     "solution": false,
     "task": false
    }
   },
   "source": [
    "#### Question 2.2\n",
    "\n",
    "Use `[]` to extract everything from the `alphabet` vector, except the third entry. Assign this to a2.2\n",
    "\n",
    "```\n",
    "a2.2 <- alphabet[FILL_THIS_IN]\n",
    "```"
   ]
  },
  {
   "cell_type": "code",
   "execution_count": 12,
   "metadata": {
    "deletable": false,
    "lines_to_next_cell": 0,
    "nbgrader": {
     "cell_type": "code",
     "checksum": "edf205a866e905713590c0d13f071e84",
     "grade": false,
     "grade_id": "cell-46503448ea2a9cb9",
     "locked": false,
     "schema_version": 3,
     "solution": true,
     "task": false
    }
   },
   "outputs": [
    {
     "data": {
      "text/html": [
       "<style>\n",
       ".list-inline {list-style: none; margin:0; padding: 0}\n",
       ".list-inline>li {display: inline-block}\n",
       ".list-inline>li:not(:last-child)::after {content: \"\\00b7\"; padding: 0 .5ex}\n",
       "</style>\n",
       "<ol class=list-inline><li>'A'</li><li>'B'</li><li>'D'</li><li>'E'</li><li>'F'</li><li>'G'</li><li>'H'</li><li>'I'</li><li>'J'</li><li>'K'</li><li>'L'</li><li>'M'</li><li>'N'</li><li>'O'</li><li>'P'</li><li>'Q'</li><li>'R'</li><li>'S'</li><li>'T'</li><li>'U'</li><li>'V'</li><li>'W'</li><li>'X'</li><li>'Y'</li><li>'Z'</li></ol>\n"
      ],
      "text/latex": [
       "\\begin{enumerate*}\n",
       "\\item 'A'\n",
       "\\item 'B'\n",
       "\\item 'D'\n",
       "\\item 'E'\n",
       "\\item 'F'\n",
       "\\item 'G'\n",
       "\\item 'H'\n",
       "\\item 'I'\n",
       "\\item 'J'\n",
       "\\item 'K'\n",
       "\\item 'L'\n",
       "\\item 'M'\n",
       "\\item 'N'\n",
       "\\item 'O'\n",
       "\\item 'P'\n",
       "\\item 'Q'\n",
       "\\item 'R'\n",
       "\\item 'S'\n",
       "\\item 'T'\n",
       "\\item 'U'\n",
       "\\item 'V'\n",
       "\\item 'W'\n",
       "\\item 'X'\n",
       "\\item 'Y'\n",
       "\\item 'Z'\n",
       "\\end{enumerate*}\n"
      ],
      "text/markdown": [
       "1. 'A'\n",
       "2. 'B'\n",
       "3. 'D'\n",
       "4. 'E'\n",
       "5. 'F'\n",
       "6. 'G'\n",
       "7. 'H'\n",
       "8. 'I'\n",
       "9. 'J'\n",
       "10. 'K'\n",
       "11. 'L'\n",
       "12. 'M'\n",
       "13. 'N'\n",
       "14. 'O'\n",
       "15. 'P'\n",
       "16. 'Q'\n",
       "17. 'R'\n",
       "18. 'S'\n",
       "19. 'T'\n",
       "20. 'U'\n",
       "21. 'V'\n",
       "22. 'W'\n",
       "23. 'X'\n",
       "24. 'Y'\n",
       "25. 'Z'\n",
       "\n",
       "\n"
      ],
      "text/plain": [
       " [1] \"A\" \"B\" \"D\" \"E\" \"F\" \"G\" \"H\" \"I\" \"J\" \"K\" \"L\" \"M\" \"N\" \"O\" \"P\" \"Q\" \"R\" \"S\" \"T\"\n",
       "[20] \"U\" \"V\" \"W\" \"X\" \"Y\" \"Z\""
      ]
     },
     "metadata": {},
     "output_type": "display_data"
    }
   ],
   "source": [
    "# your code here\n",
    "a2.2 <- alphabet[-3]\n",
    "a2.2"
   ]
  },
  {
   "cell_type": "code",
   "execution_count": 13,
   "metadata": {
    "deletable": false,
    "editable": false,
    "lines_to_next_cell": 2,
    "nbgrader": {
     "cell_type": "code",
     "checksum": "82450b583abbb2c609b870d7c09aab24",
     "grade": true,
     "grade_id": "cell-caed098411987014",
     "locked": true,
     "points": 1,
     "schema_version": 3,
     "solution": false,
     "task": false
    }
   },
   "outputs": [
    {
     "name": "stdout",
     "output_type": "stream",
     "text": [
      "[1] \"Success!\"\n"
     ]
    }
   ],
   "source": [
    "test_that(\"Question 2.2\", expect_known_hash(a2.2, 'e637ddc1874226525a2c12063956edfa'))\n",
    "print(\"Success!\")"
   ]
  },
  {
   "cell_type": "markdown",
   "metadata": {
    "deletable": false,
    "editable": false,
    "nbgrader": {
     "cell_type": "markdown",
     "checksum": "6e3a92a491978fa1f52c9847514bc277",
     "grade": false,
     "grade_id": "cell-4ad94aa7ee66ed58",
     "locked": true,
     "schema_version": 3,
     "solution": false,
     "task": false
    }
   },
   "source": [
    "#### Question 2.3\n",
    "\n",
    "Extract the 2nd to 19th entry of `alphabet` – make use of `:` to construct sequential vectors. Assign to the object `a2.3`\n",
    "\n",
    "```\n",
    "a2.3 <- alphabet[FILL_THIS_IN]\n",
    "```"
   ]
  },
  {
   "cell_type": "code",
   "execution_count": 14,
   "metadata": {
    "deletable": false,
    "lines_to_next_cell": 0,
    "nbgrader": {
     "cell_type": "code",
     "checksum": "8aae99c9a314dbfb620d3ceb99777268",
     "grade": false,
     "grade_id": "cell-7e52beeb587753f4",
     "locked": false,
     "schema_version": 3,
     "solution": true,
     "task": false
    }
   },
   "outputs": [
    {
     "data": {
      "text/html": [
       "<style>\n",
       ".list-inline {list-style: none; margin:0; padding: 0}\n",
       ".list-inline>li {display: inline-block}\n",
       ".list-inline>li:not(:last-child)::after {content: \"\\00b7\"; padding: 0 .5ex}\n",
       "</style>\n",
       "<ol class=list-inline><li>'B'</li><li>'C'</li><li>'D'</li><li>'E'</li><li>'F'</li><li>'G'</li><li>'H'</li><li>'I'</li><li>'J'</li><li>'K'</li><li>'L'</li><li>'M'</li><li>'N'</li><li>'O'</li><li>'P'</li><li>'Q'</li><li>'R'</li><li>'S'</li></ol>\n"
      ],
      "text/latex": [
       "\\begin{enumerate*}\n",
       "\\item 'B'\n",
       "\\item 'C'\n",
       "\\item 'D'\n",
       "\\item 'E'\n",
       "\\item 'F'\n",
       "\\item 'G'\n",
       "\\item 'H'\n",
       "\\item 'I'\n",
       "\\item 'J'\n",
       "\\item 'K'\n",
       "\\item 'L'\n",
       "\\item 'M'\n",
       "\\item 'N'\n",
       "\\item 'O'\n",
       "\\item 'P'\n",
       "\\item 'Q'\n",
       "\\item 'R'\n",
       "\\item 'S'\n",
       "\\end{enumerate*}\n"
      ],
      "text/markdown": [
       "1. 'B'\n",
       "2. 'C'\n",
       "3. 'D'\n",
       "4. 'E'\n",
       "5. 'F'\n",
       "6. 'G'\n",
       "7. 'H'\n",
       "8. 'I'\n",
       "9. 'J'\n",
       "10. 'K'\n",
       "11. 'L'\n",
       "12. 'M'\n",
       "13. 'N'\n",
       "14. 'O'\n",
       "15. 'P'\n",
       "16. 'Q'\n",
       "17. 'R'\n",
       "18. 'S'\n",
       "\n",
       "\n"
      ],
      "text/plain": [
       " [1] \"B\" \"C\" \"D\" \"E\" \"F\" \"G\" \"H\" \"I\" \"J\" \"K\" \"L\" \"M\" \"N\" \"O\" \"P\" \"Q\" \"R\" \"S\""
      ]
     },
     "metadata": {},
     "output_type": "display_data"
    }
   ],
   "source": [
    "# your code here\n",
    "a2.3 <- alphabet[2:19]\n",
    "a2.3"
   ]
  },
  {
   "cell_type": "code",
   "execution_count": 15,
   "metadata": {
    "deletable": false,
    "editable": false,
    "nbgrader": {
     "cell_type": "code",
     "checksum": "bd6bd9f7554b6d923a72c66589ac1cc3",
     "grade": true,
     "grade_id": "cell-806b19b02e2333e2",
     "locked": true,
     "points": 1,
     "schema_version": 3,
     "solution": false,
     "task": false
    }
   },
   "outputs": [
    {
     "name": "stdout",
     "output_type": "stream",
     "text": [
      "[1] \"Success!\"\n"
     ]
    }
   ],
   "source": [
    "test_that(\"Question 2.3\", expect_known_hash(a2.3, '716b4c1a6fce07eb1bae341b04999f22'))\n",
    "print(\"Success!\")"
   ]
  },
  {
   "cell_type": "markdown",
   "metadata": {
    "deletable": false,
    "editable": false,
    "nbgrader": {
     "cell_type": "markdown",
     "checksum": "c95bc1c0eef4b9da7941df0b43e6ce21",
     "grade": false,
     "grade_id": "cell-1d6499c6b3e1bea1",
     "locked": true,
     "schema_version": 3,
     "solution": false,
     "task": false
    }
   },
   "source": [
    "#### Question 2.4\n",
    "\n",
    "Replace the second entry of `alphabet` with the character string \"This is where B is\". Assign **in place** (i.e. do not create a new object, but change the existing `alphabet` vector).\n",
    "\n",
    "```\n",
    "alphabet[FILL_THIS_IN] <- FILL_THIS_IN\n",
    "alphabet\n",
    "```"
   ]
  },
  {
   "cell_type": "code",
   "execution_count": 16,
   "metadata": {
    "deletable": false,
    "lines_to_next_cell": 0,
    "nbgrader": {
     "cell_type": "code",
     "checksum": "4f18954cd2c4ecee7079e54b8cf29d5b",
     "grade": false,
     "grade_id": "cell-041e1b9fdf167cc9",
     "locked": false,
     "schema_version": 3,
     "solution": true,
     "task": false
    }
   },
   "outputs": [
    {
     "data": {
      "text/html": [
       "<style>\n",
       ".list-inline {list-style: none; margin:0; padding: 0}\n",
       ".list-inline>li {display: inline-block}\n",
       ".list-inline>li:not(:last-child)::after {content: \"\\00b7\"; padding: 0 .5ex}\n",
       "</style>\n",
       "<ol class=list-inline><li>'A'</li><li>'This is where B is'</li><li>'C'</li><li>'D'</li><li>'E'</li><li>'F'</li><li>'G'</li><li>'H'</li><li>'I'</li><li>'J'</li><li>'K'</li><li>'L'</li><li>'M'</li><li>'N'</li><li>'O'</li><li>'P'</li><li>'Q'</li><li>'R'</li><li>'S'</li><li>'T'</li><li>'U'</li><li>'V'</li><li>'W'</li><li>'X'</li><li>'Y'</li><li>'Z'</li></ol>\n"
      ],
      "text/latex": [
       "\\begin{enumerate*}\n",
       "\\item 'A'\n",
       "\\item 'This is where B is'\n",
       "\\item 'C'\n",
       "\\item 'D'\n",
       "\\item 'E'\n",
       "\\item 'F'\n",
       "\\item 'G'\n",
       "\\item 'H'\n",
       "\\item 'I'\n",
       "\\item 'J'\n",
       "\\item 'K'\n",
       "\\item 'L'\n",
       "\\item 'M'\n",
       "\\item 'N'\n",
       "\\item 'O'\n",
       "\\item 'P'\n",
       "\\item 'Q'\n",
       "\\item 'R'\n",
       "\\item 'S'\n",
       "\\item 'T'\n",
       "\\item 'U'\n",
       "\\item 'V'\n",
       "\\item 'W'\n",
       "\\item 'X'\n",
       "\\item 'Y'\n",
       "\\item 'Z'\n",
       "\\end{enumerate*}\n"
      ],
      "text/markdown": [
       "1. 'A'\n",
       "2. 'This is where B is'\n",
       "3. 'C'\n",
       "4. 'D'\n",
       "5. 'E'\n",
       "6. 'F'\n",
       "7. 'G'\n",
       "8. 'H'\n",
       "9. 'I'\n",
       "10. 'J'\n",
       "11. 'K'\n",
       "12. 'L'\n",
       "13. 'M'\n",
       "14. 'N'\n",
       "15. 'O'\n",
       "16. 'P'\n",
       "17. 'Q'\n",
       "18. 'R'\n",
       "19. 'S'\n",
       "20. 'T'\n",
       "21. 'U'\n",
       "22. 'V'\n",
       "23. 'W'\n",
       "24. 'X'\n",
       "25. 'Y'\n",
       "26. 'Z'\n",
       "\n",
       "\n"
      ],
      "text/plain": [
       " [1] \"A\"                  \"This is where B is\" \"C\"                 \n",
       " [4] \"D\"                  \"E\"                  \"F\"                 \n",
       " [7] \"G\"                  \"H\"                  \"I\"                 \n",
       "[10] \"J\"                  \"K\"                  \"L\"                 \n",
       "[13] \"M\"                  \"N\"                  \"O\"                 \n",
       "[16] \"P\"                  \"Q\"                  \"R\"                 \n",
       "[19] \"S\"                  \"T\"                  \"U\"                 \n",
       "[22] \"V\"                  \"W\"                  \"X\"                 \n",
       "[25] \"Y\"                  \"Z\"                 "
      ]
     },
     "metadata": {},
     "output_type": "display_data"
    }
   ],
   "source": [
    "# your code here\n",
    "alphabet[2] <- \"This is where B is\"\n",
    "alphabet"
   ]
  },
  {
   "cell_type": "code",
   "execution_count": 17,
   "metadata": {
    "deletable": false,
    "editable": false,
    "nbgrader": {
     "cell_type": "code",
     "checksum": "fa99d1ff7b63ba64f9dcc296409ed802",
     "grade": true,
     "grade_id": "cell-9c7e891a0ad00169",
     "locked": true,
     "points": 0,
     "schema_version": 3,
     "solution": false,
     "task": false
    }
   },
   "outputs": [
    {
     "name": "stdout",
     "output_type": "stream",
     "text": [
      "[1] \"Success!\"\n"
     ]
    }
   ],
   "source": [
    "test_that(\"Question 2.5\", expect_known_hash(enc2utf8(alphabet), 'a9acf5bcf0a199fd37259f8f1b56487a'))\n",
    "print(\"Success!\")"
   ]
  },
  {
   "cell_type": "markdown",
   "metadata": {
    "deletable": false,
    "editable": false,
    "nbgrader": {
     "cell_type": "markdown",
     "checksum": "5c3fc8adb38bfa214112ab8ba2beebe6",
     "grade": false,
     "grade_id": "cell-b8379204e1f83944",
     "locked": true,
     "schema_version": 3,
     "solution": false,
     "task": false
    }
   },
   "source": [
    "#### Question 2.5\n",
    "\n",
    "With the newly altered alphabet vector created from Q2.4, create a new vector called `a2.5`, where it is the same vector, but repeated twice. Hint: use `c()`\n",
    "\n",
    "```\n",
    "a2.5 <- FILL_THIS_IN(FILL_THIS_IN)\n",
    "```"
   ]
  },
  {
   "cell_type": "code",
   "execution_count": 20,
   "metadata": {
    "deletable": false,
    "lines_to_next_cell": 0,
    "nbgrader": {
     "cell_type": "code",
     "checksum": "217c77529a2880b17ec169a6ce90042e",
     "grade": false,
     "grade_id": "cell-d9568dc0d8c17add",
     "locked": false,
     "schema_version": 3,
     "solution": true,
     "task": false
    }
   },
   "outputs": [
    {
     "data": {
      "text/html": [
       "<style>\n",
       ".list-inline {list-style: none; margin:0; padding: 0}\n",
       ".list-inline>li {display: inline-block}\n",
       ".list-inline>li:not(:last-child)::after {content: \"\\00b7\"; padding: 0 .5ex}\n",
       "</style>\n",
       "<ol class=list-inline><li>'A'</li><li>'This is where B is'</li><li>'C'</li><li>'D'</li><li>'E'</li><li>'F'</li><li>'G'</li><li>'H'</li><li>'I'</li><li>'J'</li><li>'K'</li><li>'L'</li><li>'M'</li><li>'N'</li><li>'O'</li><li>'P'</li><li>'Q'</li><li>'R'</li><li>'S'</li><li>'T'</li><li>'U'</li><li>'V'</li><li>'W'</li><li>'X'</li><li>'Y'</li><li>'Z'</li><li>'A'</li><li>'This is where B is'</li><li>'C'</li><li>'D'</li><li>'E'</li><li>'F'</li><li>'G'</li><li>'H'</li><li>'I'</li><li>'J'</li><li>'K'</li><li>'L'</li><li>'M'</li><li>'N'</li><li>'O'</li><li>'P'</li><li>'Q'</li><li>'R'</li><li>'S'</li><li>'T'</li><li>'U'</li><li>'V'</li><li>'W'</li><li>'X'</li><li>'Y'</li><li>'Z'</li></ol>\n"
      ],
      "text/latex": [
       "\\begin{enumerate*}\n",
       "\\item 'A'\n",
       "\\item 'This is where B is'\n",
       "\\item 'C'\n",
       "\\item 'D'\n",
       "\\item 'E'\n",
       "\\item 'F'\n",
       "\\item 'G'\n",
       "\\item 'H'\n",
       "\\item 'I'\n",
       "\\item 'J'\n",
       "\\item 'K'\n",
       "\\item 'L'\n",
       "\\item 'M'\n",
       "\\item 'N'\n",
       "\\item 'O'\n",
       "\\item 'P'\n",
       "\\item 'Q'\n",
       "\\item 'R'\n",
       "\\item 'S'\n",
       "\\item 'T'\n",
       "\\item 'U'\n",
       "\\item 'V'\n",
       "\\item 'W'\n",
       "\\item 'X'\n",
       "\\item 'Y'\n",
       "\\item 'Z'\n",
       "\\item 'A'\n",
       "\\item 'This is where B is'\n",
       "\\item 'C'\n",
       "\\item 'D'\n",
       "\\item 'E'\n",
       "\\item 'F'\n",
       "\\item 'G'\n",
       "\\item 'H'\n",
       "\\item 'I'\n",
       "\\item 'J'\n",
       "\\item 'K'\n",
       "\\item 'L'\n",
       "\\item 'M'\n",
       "\\item 'N'\n",
       "\\item 'O'\n",
       "\\item 'P'\n",
       "\\item 'Q'\n",
       "\\item 'R'\n",
       "\\item 'S'\n",
       "\\item 'T'\n",
       "\\item 'U'\n",
       "\\item 'V'\n",
       "\\item 'W'\n",
       "\\item 'X'\n",
       "\\item 'Y'\n",
       "\\item 'Z'\n",
       "\\end{enumerate*}\n"
      ],
      "text/markdown": [
       "1. 'A'\n",
       "2. 'This is where B is'\n",
       "3. 'C'\n",
       "4. 'D'\n",
       "5. 'E'\n",
       "6. 'F'\n",
       "7. 'G'\n",
       "8. 'H'\n",
       "9. 'I'\n",
       "10. 'J'\n",
       "11. 'K'\n",
       "12. 'L'\n",
       "13. 'M'\n",
       "14. 'N'\n",
       "15. 'O'\n",
       "16. 'P'\n",
       "17. 'Q'\n",
       "18. 'R'\n",
       "19. 'S'\n",
       "20. 'T'\n",
       "21. 'U'\n",
       "22. 'V'\n",
       "23. 'W'\n",
       "24. 'X'\n",
       "25. 'Y'\n",
       "26. 'Z'\n",
       "27. 'A'\n",
       "28. 'This is where B is'\n",
       "29. 'C'\n",
       "30. 'D'\n",
       "31. 'E'\n",
       "32. 'F'\n",
       "33. 'G'\n",
       "34. 'H'\n",
       "35. 'I'\n",
       "36. 'J'\n",
       "37. 'K'\n",
       "38. 'L'\n",
       "39. 'M'\n",
       "40. 'N'\n",
       "41. 'O'\n",
       "42. 'P'\n",
       "43. 'Q'\n",
       "44. 'R'\n",
       "45. 'S'\n",
       "46. 'T'\n",
       "47. 'U'\n",
       "48. 'V'\n",
       "49. 'W'\n",
       "50. 'X'\n",
       "51. 'Y'\n",
       "52. 'Z'\n",
       "\n",
       "\n"
      ],
      "text/plain": [
       " [1] \"A\"                  \"This is where B is\" \"C\"                 \n",
       " [4] \"D\"                  \"E\"                  \"F\"                 \n",
       " [7] \"G\"                  \"H\"                  \"I\"                 \n",
       "[10] \"J\"                  \"K\"                  \"L\"                 \n",
       "[13] \"M\"                  \"N\"                  \"O\"                 \n",
       "[16] \"P\"                  \"Q\"                  \"R\"                 \n",
       "[19] \"S\"                  \"T\"                  \"U\"                 \n",
       "[22] \"V\"                  \"W\"                  \"X\"                 \n",
       "[25] \"Y\"                  \"Z\"                  \"A\"                 \n",
       "[28] \"This is where B is\" \"C\"                  \"D\"                 \n",
       "[31] \"E\"                  \"F\"                  \"G\"                 \n",
       "[34] \"H\"                  \"I\"                  \"J\"                 \n",
       "[37] \"K\"                  \"L\"                  \"M\"                 \n",
       "[40] \"N\"                  \"O\"                  \"P\"                 \n",
       "[43] \"Q\"                  \"R\"                  \"S\"                 \n",
       "[46] \"T\"                  \"U\"                  \"V\"                 \n",
       "[49] \"W\"                  \"X\"                  \"Y\"                 \n",
       "[52] \"Z\"                 "
      ]
     },
     "metadata": {},
     "output_type": "display_data"
    }
   ],
   "source": [
    "# your code here\n",
    "a2.5 <- c(alphabet, alphabet)\n",
    "a2.5 <- rep(alphabet, 2)\n",
    "a2.5"
   ]
  },
  {
   "cell_type": "code",
   "execution_count": 19,
   "metadata": {
    "deletable": false,
    "editable": false,
    "nbgrader": {
     "cell_type": "code",
     "checksum": "c5ec5f0c55f9ff9b3580d968ce5460f2",
     "grade": true,
     "grade_id": "cell-7afaeb0beeff31e0",
     "locked": true,
     "points": 1,
     "schema_version": 3,
     "solution": false,
     "task": false
    }
   },
   "outputs": [
    {
     "name": "stdout",
     "output_type": "stream",
     "text": [
      "[1] \"Success!\"\n"
     ]
    }
   ],
   "source": [
    "test_that(\"Question 2.5\", expect_known_hash(enc2utf8(a2.5), '34c18fc97d296e3c4f6dc28b56a62b91'))\n",
    "print(\"Success!\")"
   ]
  },
  {
   "cell_type": "markdown",
   "metadata": {
    "deletable": false,
    "editable": false,
    "nbgrader": {
     "cell_type": "markdown",
     "checksum": "483c3100273d0469a321c00bcde7f656",
     "grade": false,
     "grade_id": "cell-99aa45fbba8d8199",
     "locked": true,
     "schema_version": 3,
     "solution": false,
     "task": false
    }
   },
   "source": [
    "#### Question 2.6\n",
    "\n",
    "Load the mtcars dataset. \n",
    "\n",
    "1. Extract the vector of `mpg` values using the `$` operator \n",
    "2. Extract the 2nd to 24th elements, inclusively.\n",
    "3. Assign this to the object `a2.6`. \n",
    "\n",
    "```\n",
    "(a2.6 <- mtcars$FILL_THIS_IN[FILL_THIS_IN])\n",
    "```"
   ]
  },
  {
   "cell_type": "code",
   "execution_count": 21,
   "metadata": {
    "deletable": false,
    "lines_to_next_cell": 0,
    "nbgrader": {
     "cell_type": "code",
     "checksum": "9e52634a6431a0fc2b263f51fd1cc345",
     "grade": false,
     "grade_id": "cell-636b191a444f10bf",
     "locked": false,
     "schema_version": 3,
     "solution": true,
     "task": false
    }
   },
   "outputs": [
    {
     "data": {
      "text/html": [
       "<style>\n",
       ".list-inline {list-style: none; margin:0; padding: 0}\n",
       ".list-inline>li {display: inline-block}\n",
       ".list-inline>li:not(:last-child)::after {content: \"\\00b7\"; padding: 0 .5ex}\n",
       "</style>\n",
       "<ol class=list-inline><li>21</li><li>22.8</li><li>21.4</li><li>18.7</li><li>18.1</li><li>14.3</li><li>24.4</li><li>22.8</li><li>19.2</li><li>17.8</li><li>16.4</li><li>17.3</li><li>15.2</li><li>10.4</li><li>10.4</li><li>14.7</li><li>32.4</li><li>30.4</li><li>33.9</li><li>21.5</li><li>15.5</li><li>15.2</li><li>13.3</li></ol>\n"
      ],
      "text/latex": [
       "\\begin{enumerate*}\n",
       "\\item 21\n",
       "\\item 22.8\n",
       "\\item 21.4\n",
       "\\item 18.7\n",
       "\\item 18.1\n",
       "\\item 14.3\n",
       "\\item 24.4\n",
       "\\item 22.8\n",
       "\\item 19.2\n",
       "\\item 17.8\n",
       "\\item 16.4\n",
       "\\item 17.3\n",
       "\\item 15.2\n",
       "\\item 10.4\n",
       "\\item 10.4\n",
       "\\item 14.7\n",
       "\\item 32.4\n",
       "\\item 30.4\n",
       "\\item 33.9\n",
       "\\item 21.5\n",
       "\\item 15.5\n",
       "\\item 15.2\n",
       "\\item 13.3\n",
       "\\end{enumerate*}\n"
      ],
      "text/markdown": [
       "1. 21\n",
       "2. 22.8\n",
       "3. 21.4\n",
       "4. 18.7\n",
       "5. 18.1\n",
       "6. 14.3\n",
       "7. 24.4\n",
       "8. 22.8\n",
       "9. 19.2\n",
       "10. 17.8\n",
       "11. 16.4\n",
       "12. 17.3\n",
       "13. 15.2\n",
       "14. 10.4\n",
       "15. 10.4\n",
       "16. 14.7\n",
       "17. 32.4\n",
       "18. 30.4\n",
       "19. 33.9\n",
       "20. 21.5\n",
       "21. 15.5\n",
       "22. 15.2\n",
       "23. 13.3\n",
       "\n",
       "\n"
      ],
      "text/plain": [
       " [1] 21.0 22.8 21.4 18.7 18.1 14.3 24.4 22.8 19.2 17.8 16.4 17.3 15.2 10.4 10.4\n",
       "[16] 14.7 32.4 30.4 33.9 21.5 15.5 15.2 13.3"
      ]
     },
     "metadata": {},
     "output_type": "display_data"
    },
    {
     "data": {
      "text/html": [
       "<style>\n",
       ".list-inline {list-style: none; margin:0; padding: 0}\n",
       ".list-inline>li {display: inline-block}\n",
       ".list-inline>li:not(:last-child)::after {content: \"\\00b7\"; padding: 0 .5ex}\n",
       "</style>\n",
       "<ol class=list-inline><li>21</li><li>22.8</li><li>21.4</li><li>18.7</li><li>18.1</li><li>14.3</li><li>24.4</li><li>22.8</li><li>19.2</li><li>17.8</li><li>16.4</li><li>17.3</li><li>15.2</li><li>10.4</li><li>10.4</li><li>14.7</li><li>32.4</li><li>30.4</li><li>33.9</li><li>21.5</li><li>15.5</li><li>15.2</li><li>13.3</li></ol>\n"
      ],
      "text/latex": [
       "\\begin{enumerate*}\n",
       "\\item 21\n",
       "\\item 22.8\n",
       "\\item 21.4\n",
       "\\item 18.7\n",
       "\\item 18.1\n",
       "\\item 14.3\n",
       "\\item 24.4\n",
       "\\item 22.8\n",
       "\\item 19.2\n",
       "\\item 17.8\n",
       "\\item 16.4\n",
       "\\item 17.3\n",
       "\\item 15.2\n",
       "\\item 10.4\n",
       "\\item 10.4\n",
       "\\item 14.7\n",
       "\\item 32.4\n",
       "\\item 30.4\n",
       "\\item 33.9\n",
       "\\item 21.5\n",
       "\\item 15.5\n",
       "\\item 15.2\n",
       "\\item 13.3\n",
       "\\end{enumerate*}\n"
      ],
      "text/markdown": [
       "1. 21\n",
       "2. 22.8\n",
       "3. 21.4\n",
       "4. 18.7\n",
       "5. 18.1\n",
       "6. 14.3\n",
       "7. 24.4\n",
       "8. 22.8\n",
       "9. 19.2\n",
       "10. 17.8\n",
       "11. 16.4\n",
       "12. 17.3\n",
       "13. 15.2\n",
       "14. 10.4\n",
       "15. 10.4\n",
       "16. 14.7\n",
       "17. 32.4\n",
       "18. 30.4\n",
       "19. 33.9\n",
       "20. 21.5\n",
       "21. 15.5\n",
       "22. 15.2\n",
       "23. 13.3\n",
       "\n",
       "\n"
      ],
      "text/plain": [
       " [1] 21.0 22.8 21.4 18.7 18.1 14.3 24.4 22.8 19.2 17.8 16.4 17.3 15.2 10.4 10.4\n",
       "[16] 14.7 32.4 30.4 33.9 21.5 15.5 15.2 13.3"
      ]
     },
     "metadata": {},
     "output_type": "display_data"
    }
   ],
   "source": [
    "# your code here\n",
    "(a2.6 <- mtcars$mpg[2:24])\n",
    "a2.6\n"
   ]
  },
  {
   "cell_type": "code",
   "execution_count": 22,
   "metadata": {
    "deletable": false,
    "editable": false,
    "nbgrader": {
     "cell_type": "code",
     "checksum": "f683321d9346a0e73d79df177fd13afd",
     "grade": true,
     "grade_id": "cell-de2504ab380c7da4",
     "locked": true,
     "points": 1,
     "schema_version": 3,
     "solution": false,
     "task": false
    }
   },
   "outputs": [
    {
     "name": "stdout",
     "output_type": "stream",
     "text": [
      "[1] \"Success!\"\n"
     ]
    }
   ],
   "source": [
    "test_that(\"Question 2.6\", expect_known_hash(a2.6, 'd065f0e9275a4ff106485010c3fd1c2c'))\n",
    "print(\"Success!\")"
   ]
  },
  {
   "cell_type": "markdown",
   "metadata": {
    "deletable": false,
    "editable": false,
    "nbgrader": {
     "cell_type": "markdown",
     "checksum": "5851e71be2c0cefbe1160a05d23606d9",
     "grade": false,
     "grade_id": "cell-4474329a11f182dd",
     "locked": true,
     "schema_version": 3,
     "solution": false,
     "task": false
    }
   },
   "source": [
    "#### Question 2.7\n",
    "\n",
    "Using `mtcars` again,\n",
    "\n",
    "1. Extract the vector of `wt` values using the `$` operator.\n",
    "2. Replace each value with `TRUE` if the value is greater than 3.4, and `FALSE` otherwise.\n",
    "3. Assign this logical vector to the R object `a2.7`\n",
    "\n",
    "```\n",
    "(a2.7 <- mtcars$FILL_THIS_IN) \n",
    "```"
   ]
  },
  {
   "cell_type": "code",
   "execution_count": 23,
   "metadata": {
    "deletable": false,
    "lines_to_next_cell": 0,
    "nbgrader": {
     "cell_type": "code",
     "checksum": "02cb26c36ade3e857e19b3a370376e2f",
     "grade": false,
     "grade_id": "cell-57746edd3f5caa7d",
     "locked": false,
     "schema_version": 3,
     "solution": true,
     "task": false
    }
   },
   "outputs": [
    {
     "data": {
      "text/html": [
       "<style>\n",
       ".list-inline {list-style: none; margin:0; padding: 0}\n",
       ".list-inline>li {display: inline-block}\n",
       ".list-inline>li:not(:last-child)::after {content: \"\\00b7\"; padding: 0 .5ex}\n",
       "</style>\n",
       "<ol class=list-inline><li>FALSE</li><li>FALSE</li><li>FALSE</li><li>FALSE</li><li>TRUE</li><li>TRUE</li><li>TRUE</li><li>FALSE</li><li>FALSE</li><li>TRUE</li><li>TRUE</li><li>TRUE</li><li>TRUE</li><li>TRUE</li><li>TRUE</li><li>TRUE</li><li>TRUE</li><li>FALSE</li><li>FALSE</li><li>FALSE</li><li>FALSE</li><li>TRUE</li><li>TRUE</li><li>TRUE</li><li>TRUE</li><li>FALSE</li><li>FALSE</li><li>FALSE</li><li>FALSE</li><li>FALSE</li><li>TRUE</li><li>FALSE</li></ol>\n"
      ],
      "text/latex": [
       "\\begin{enumerate*}\n",
       "\\item FALSE\n",
       "\\item FALSE\n",
       "\\item FALSE\n",
       "\\item FALSE\n",
       "\\item TRUE\n",
       "\\item TRUE\n",
       "\\item TRUE\n",
       "\\item FALSE\n",
       "\\item FALSE\n",
       "\\item TRUE\n",
       "\\item TRUE\n",
       "\\item TRUE\n",
       "\\item TRUE\n",
       "\\item TRUE\n",
       "\\item TRUE\n",
       "\\item TRUE\n",
       "\\item TRUE\n",
       "\\item FALSE\n",
       "\\item FALSE\n",
       "\\item FALSE\n",
       "\\item FALSE\n",
       "\\item TRUE\n",
       "\\item TRUE\n",
       "\\item TRUE\n",
       "\\item TRUE\n",
       "\\item FALSE\n",
       "\\item FALSE\n",
       "\\item FALSE\n",
       "\\item FALSE\n",
       "\\item FALSE\n",
       "\\item TRUE\n",
       "\\item FALSE\n",
       "\\end{enumerate*}\n"
      ],
      "text/markdown": [
       "1. FALSE\n",
       "2. FALSE\n",
       "3. FALSE\n",
       "4. FALSE\n",
       "5. TRUE\n",
       "6. TRUE\n",
       "7. TRUE\n",
       "8. FALSE\n",
       "9. FALSE\n",
       "10. TRUE\n",
       "11. TRUE\n",
       "12. TRUE\n",
       "13. TRUE\n",
       "14. TRUE\n",
       "15. TRUE\n",
       "16. TRUE\n",
       "17. TRUE\n",
       "18. FALSE\n",
       "19. FALSE\n",
       "20. FALSE\n",
       "21. FALSE\n",
       "22. TRUE\n",
       "23. TRUE\n",
       "24. TRUE\n",
       "25. TRUE\n",
       "26. FALSE\n",
       "27. FALSE\n",
       "28. FALSE\n",
       "29. FALSE\n",
       "30. FALSE\n",
       "31. TRUE\n",
       "32. FALSE\n",
       "\n",
       "\n"
      ],
      "text/plain": [
       " [1] FALSE FALSE FALSE FALSE  TRUE  TRUE  TRUE FALSE FALSE  TRUE  TRUE  TRUE\n",
       "[13]  TRUE  TRUE  TRUE  TRUE  TRUE FALSE FALSE FALSE FALSE  TRUE  TRUE  TRUE\n",
       "[25]  TRUE FALSE FALSE FALSE FALSE FALSE  TRUE FALSE"
      ]
     },
     "metadata": {},
     "output_type": "display_data"
    },
    {
     "data": {
      "text/html": [
       "<style>\n",
       ".list-inline {list-style: none; margin:0; padding: 0}\n",
       ".list-inline>li {display: inline-block}\n",
       ".list-inline>li:not(:last-child)::after {content: \"\\00b7\"; padding: 0 .5ex}\n",
       "</style>\n",
       "<ol class=list-inline><li>FALSE</li><li>FALSE</li><li>FALSE</li><li>FALSE</li><li>TRUE</li><li>TRUE</li><li>TRUE</li><li>FALSE</li><li>FALSE</li><li>TRUE</li><li>TRUE</li><li>TRUE</li><li>TRUE</li><li>TRUE</li><li>TRUE</li><li>TRUE</li><li>TRUE</li><li>FALSE</li><li>FALSE</li><li>FALSE</li><li>FALSE</li><li>TRUE</li><li>TRUE</li><li>TRUE</li><li>TRUE</li><li>FALSE</li><li>FALSE</li><li>FALSE</li><li>FALSE</li><li>FALSE</li><li>TRUE</li><li>FALSE</li></ol>\n"
      ],
      "text/latex": [
       "\\begin{enumerate*}\n",
       "\\item FALSE\n",
       "\\item FALSE\n",
       "\\item FALSE\n",
       "\\item FALSE\n",
       "\\item TRUE\n",
       "\\item TRUE\n",
       "\\item TRUE\n",
       "\\item FALSE\n",
       "\\item FALSE\n",
       "\\item TRUE\n",
       "\\item TRUE\n",
       "\\item TRUE\n",
       "\\item TRUE\n",
       "\\item TRUE\n",
       "\\item TRUE\n",
       "\\item TRUE\n",
       "\\item TRUE\n",
       "\\item FALSE\n",
       "\\item FALSE\n",
       "\\item FALSE\n",
       "\\item FALSE\n",
       "\\item TRUE\n",
       "\\item TRUE\n",
       "\\item TRUE\n",
       "\\item TRUE\n",
       "\\item FALSE\n",
       "\\item FALSE\n",
       "\\item FALSE\n",
       "\\item FALSE\n",
       "\\item FALSE\n",
       "\\item TRUE\n",
       "\\item FALSE\n",
       "\\end{enumerate*}\n"
      ],
      "text/markdown": [
       "1. FALSE\n",
       "2. FALSE\n",
       "3. FALSE\n",
       "4. FALSE\n",
       "5. TRUE\n",
       "6. TRUE\n",
       "7. TRUE\n",
       "8. FALSE\n",
       "9. FALSE\n",
       "10. TRUE\n",
       "11. TRUE\n",
       "12. TRUE\n",
       "13. TRUE\n",
       "14. TRUE\n",
       "15. TRUE\n",
       "16. TRUE\n",
       "17. TRUE\n",
       "18. FALSE\n",
       "19. FALSE\n",
       "20. FALSE\n",
       "21. FALSE\n",
       "22. TRUE\n",
       "23. TRUE\n",
       "24. TRUE\n",
       "25. TRUE\n",
       "26. FALSE\n",
       "27. FALSE\n",
       "28. FALSE\n",
       "29. FALSE\n",
       "30. FALSE\n",
       "31. TRUE\n",
       "32. FALSE\n",
       "\n",
       "\n"
      ],
      "text/plain": [
       " [1] FALSE FALSE FALSE FALSE  TRUE  TRUE  TRUE FALSE FALSE  TRUE  TRUE  TRUE\n",
       "[13]  TRUE  TRUE  TRUE  TRUE  TRUE FALSE FALSE FALSE FALSE  TRUE  TRUE  TRUE\n",
       "[25]  TRUE FALSE FALSE FALSE FALSE FALSE  TRUE FALSE"
      ]
     },
     "metadata": {},
     "output_type": "display_data"
    }
   ],
   "source": [
    "# your code here\n",
    "(a2.7 <- mtcars$wt > 3.4) \n",
    "a2.7"
   ]
  },
  {
   "cell_type": "code",
   "execution_count": 24,
   "metadata": {
    "deletable": false,
    "editable": false,
    "lines_to_next_cell": 2,
    "nbgrader": {
     "cell_type": "code",
     "checksum": "7676dd8ba0fa0a2cd76852e5fa92b5f1",
     "grade": true,
     "grade_id": "cell-339f3fc46993a445",
     "locked": true,
     "points": 1,
     "schema_version": 3,
     "solution": false,
     "task": false
    }
   },
   "outputs": [
    {
     "name": "stdout",
     "output_type": "stream",
     "text": [
      "[1] \"Success!\"\n"
     ]
    }
   ],
   "source": [
    "test_that(\"Question 2.7\", expect_known_hash(a2.7, 'c51a40941e57f8892fe413bee95fd8d5'))\n",
    "print(\"Success!\")"
   ]
  },
  {
   "cell_type": "markdown",
   "metadata": {
    "deletable": false,
    "editable": false,
    "nbgrader": {
     "cell_type": "markdown",
     "checksum": "74089af7a72c48e864aeaba27d76101e",
     "grade": false,
     "grade_id": "cell-5adc14ffd7fb6415",
     "locked": true,
     "schema_version": 3,
     "solution": false,
     "task": false
    }
   },
   "source": [
    "#### Question 2.8\n",
    "\n",
    "Using `mtcars`,\n",
    "\n",
    "1. For the rows where mpg > 20, replace the car weight entries (`wt`) with the number `1000`\n",
    "2. Assign this new *tibble* as as the object a2.8\n",
    "\n",
    "```\n",
    "a2.8 <- mtcars\n",
    "a2.8$wt[FILL_THIS_IN] <- FILL_THIS_IN\n",
    "a2.8\n",
    "```"
   ]
  },
  {
   "cell_type": "code",
   "execution_count": 25,
   "metadata": {
    "deletable": false,
    "nbgrader": {
     "cell_type": "code",
     "checksum": "3ae6529f61ac043125685f73a7209418",
     "grade": false,
     "grade_id": "cell-aa3d0604c6413521",
     "locked": false,
     "schema_version": 3,
     "solution": true,
     "task": false
    }
   },
   "outputs": [
    {
     "data": {
      "text/html": [
       "<table>\n",
       "<caption>A data.frame: 32 × 11</caption>\n",
       "<thead>\n",
       "\t<tr><th></th><th scope=col>mpg</th><th scope=col>cyl</th><th scope=col>disp</th><th scope=col>hp</th><th scope=col>drat</th><th scope=col>wt</th><th scope=col>qsec</th><th scope=col>vs</th><th scope=col>am</th><th scope=col>gear</th><th scope=col>carb</th></tr>\n",
       "\t<tr><th></th><th scope=col>&lt;dbl&gt;</th><th scope=col>&lt;dbl&gt;</th><th scope=col>&lt;dbl&gt;</th><th scope=col>&lt;dbl&gt;</th><th scope=col>&lt;dbl&gt;</th><th scope=col>&lt;dbl&gt;</th><th scope=col>&lt;dbl&gt;</th><th scope=col>&lt;dbl&gt;</th><th scope=col>&lt;dbl&gt;</th><th scope=col>&lt;dbl&gt;</th><th scope=col>&lt;dbl&gt;</th></tr>\n",
       "</thead>\n",
       "<tbody>\n",
       "\t<tr><th scope=row>Mazda RX4</th><td>21.0</td><td>6</td><td>160.0</td><td>110</td><td>3.90</td><td>1000.000</td><td>16.46</td><td>0</td><td>1</td><td>4</td><td>4</td></tr>\n",
       "\t<tr><th scope=row>Mazda RX4 Wag</th><td>21.0</td><td>6</td><td>160.0</td><td>110</td><td>3.90</td><td>1000.000</td><td>17.02</td><td>0</td><td>1</td><td>4</td><td>4</td></tr>\n",
       "\t<tr><th scope=row>Datsun 710</th><td>22.8</td><td>4</td><td>108.0</td><td> 93</td><td>3.85</td><td>1000.000</td><td>18.61</td><td>1</td><td>1</td><td>4</td><td>1</td></tr>\n",
       "\t<tr><th scope=row>Hornet 4 Drive</th><td>21.4</td><td>6</td><td>258.0</td><td>110</td><td>3.08</td><td>1000.000</td><td>19.44</td><td>1</td><td>0</td><td>3</td><td>1</td></tr>\n",
       "\t<tr><th scope=row>Hornet Sportabout</th><td>18.7</td><td>8</td><td>360.0</td><td>175</td><td>3.15</td><td>   3.440</td><td>17.02</td><td>0</td><td>0</td><td>3</td><td>2</td></tr>\n",
       "\t<tr><th scope=row>Valiant</th><td>18.1</td><td>6</td><td>225.0</td><td>105</td><td>2.76</td><td>   3.460</td><td>20.22</td><td>1</td><td>0</td><td>3</td><td>1</td></tr>\n",
       "\t<tr><th scope=row>Duster 360</th><td>14.3</td><td>8</td><td>360.0</td><td>245</td><td>3.21</td><td>   3.570</td><td>15.84</td><td>0</td><td>0</td><td>3</td><td>4</td></tr>\n",
       "\t<tr><th scope=row>Merc 240D</th><td>24.4</td><td>4</td><td>146.7</td><td> 62</td><td>3.69</td><td>1000.000</td><td>20.00</td><td>1</td><td>0</td><td>4</td><td>2</td></tr>\n",
       "\t<tr><th scope=row>Merc 230</th><td>22.8</td><td>4</td><td>140.8</td><td> 95</td><td>3.92</td><td>1000.000</td><td>22.90</td><td>1</td><td>0</td><td>4</td><td>2</td></tr>\n",
       "\t<tr><th scope=row>Merc 280</th><td>19.2</td><td>6</td><td>167.6</td><td>123</td><td>3.92</td><td>   3.440</td><td>18.30</td><td>1</td><td>0</td><td>4</td><td>4</td></tr>\n",
       "\t<tr><th scope=row>Merc 280C</th><td>17.8</td><td>6</td><td>167.6</td><td>123</td><td>3.92</td><td>   3.440</td><td>18.90</td><td>1</td><td>0</td><td>4</td><td>4</td></tr>\n",
       "\t<tr><th scope=row>Merc 450SE</th><td>16.4</td><td>8</td><td>275.8</td><td>180</td><td>3.07</td><td>   4.070</td><td>17.40</td><td>0</td><td>0</td><td>3</td><td>3</td></tr>\n",
       "\t<tr><th scope=row>Merc 450SL</th><td>17.3</td><td>8</td><td>275.8</td><td>180</td><td>3.07</td><td>   3.730</td><td>17.60</td><td>0</td><td>0</td><td>3</td><td>3</td></tr>\n",
       "\t<tr><th scope=row>Merc 450SLC</th><td>15.2</td><td>8</td><td>275.8</td><td>180</td><td>3.07</td><td>   3.780</td><td>18.00</td><td>0</td><td>0</td><td>3</td><td>3</td></tr>\n",
       "\t<tr><th scope=row>Cadillac Fleetwood</th><td>10.4</td><td>8</td><td>472.0</td><td>205</td><td>2.93</td><td>   5.250</td><td>17.98</td><td>0</td><td>0</td><td>3</td><td>4</td></tr>\n",
       "\t<tr><th scope=row>Lincoln Continental</th><td>10.4</td><td>8</td><td>460.0</td><td>215</td><td>3.00</td><td>   5.424</td><td>17.82</td><td>0</td><td>0</td><td>3</td><td>4</td></tr>\n",
       "\t<tr><th scope=row>Chrysler Imperial</th><td>14.7</td><td>8</td><td>440.0</td><td>230</td><td>3.23</td><td>   5.345</td><td>17.42</td><td>0</td><td>0</td><td>3</td><td>4</td></tr>\n",
       "\t<tr><th scope=row>Fiat 128</th><td>32.4</td><td>4</td><td> 78.7</td><td> 66</td><td>4.08</td><td>1000.000</td><td>19.47</td><td>1</td><td>1</td><td>4</td><td>1</td></tr>\n",
       "\t<tr><th scope=row>Honda Civic</th><td>30.4</td><td>4</td><td> 75.7</td><td> 52</td><td>4.93</td><td>1000.000</td><td>18.52</td><td>1</td><td>1</td><td>4</td><td>2</td></tr>\n",
       "\t<tr><th scope=row>Toyota Corolla</th><td>33.9</td><td>4</td><td> 71.1</td><td> 65</td><td>4.22</td><td>1000.000</td><td>19.90</td><td>1</td><td>1</td><td>4</td><td>1</td></tr>\n",
       "\t<tr><th scope=row>Toyota Corona</th><td>21.5</td><td>4</td><td>120.1</td><td> 97</td><td>3.70</td><td>1000.000</td><td>20.01</td><td>1</td><td>0</td><td>3</td><td>1</td></tr>\n",
       "\t<tr><th scope=row>Dodge Challenger</th><td>15.5</td><td>8</td><td>318.0</td><td>150</td><td>2.76</td><td>   3.520</td><td>16.87</td><td>0</td><td>0</td><td>3</td><td>2</td></tr>\n",
       "\t<tr><th scope=row>AMC Javelin</th><td>15.2</td><td>8</td><td>304.0</td><td>150</td><td>3.15</td><td>   3.435</td><td>17.30</td><td>0</td><td>0</td><td>3</td><td>2</td></tr>\n",
       "\t<tr><th scope=row>Camaro Z28</th><td>13.3</td><td>8</td><td>350.0</td><td>245</td><td>3.73</td><td>   3.840</td><td>15.41</td><td>0</td><td>0</td><td>3</td><td>4</td></tr>\n",
       "\t<tr><th scope=row>Pontiac Firebird</th><td>19.2</td><td>8</td><td>400.0</td><td>175</td><td>3.08</td><td>   3.845</td><td>17.05</td><td>0</td><td>0</td><td>3</td><td>2</td></tr>\n",
       "\t<tr><th scope=row>Fiat X1-9</th><td>27.3</td><td>4</td><td> 79.0</td><td> 66</td><td>4.08</td><td>1000.000</td><td>18.90</td><td>1</td><td>1</td><td>4</td><td>1</td></tr>\n",
       "\t<tr><th scope=row>Porsche 914-2</th><td>26.0</td><td>4</td><td>120.3</td><td> 91</td><td>4.43</td><td>1000.000</td><td>16.70</td><td>0</td><td>1</td><td>5</td><td>2</td></tr>\n",
       "\t<tr><th scope=row>Lotus Europa</th><td>30.4</td><td>4</td><td> 95.1</td><td>113</td><td>3.77</td><td>1000.000</td><td>16.90</td><td>1</td><td>1</td><td>5</td><td>2</td></tr>\n",
       "\t<tr><th scope=row>Ford Pantera L</th><td>15.8</td><td>8</td><td>351.0</td><td>264</td><td>4.22</td><td>   3.170</td><td>14.50</td><td>0</td><td>1</td><td>5</td><td>4</td></tr>\n",
       "\t<tr><th scope=row>Ferrari Dino</th><td>19.7</td><td>6</td><td>145.0</td><td>175</td><td>3.62</td><td>   2.770</td><td>15.50</td><td>0</td><td>1</td><td>5</td><td>6</td></tr>\n",
       "\t<tr><th scope=row>Maserati Bora</th><td>15.0</td><td>8</td><td>301.0</td><td>335</td><td>3.54</td><td>   3.570</td><td>14.60</td><td>0</td><td>1</td><td>5</td><td>8</td></tr>\n",
       "\t<tr><th scope=row>Volvo 142E</th><td>21.4</td><td>4</td><td>121.0</td><td>109</td><td>4.11</td><td>1000.000</td><td>18.60</td><td>1</td><td>1</td><td>4</td><td>2</td></tr>\n",
       "</tbody>\n",
       "</table>\n"
      ],
      "text/latex": [
       "A data.frame: 32 × 11\n",
       "\\begin{tabular}{r|lllllllllll}\n",
       "  & mpg & cyl & disp & hp & drat & wt & qsec & vs & am & gear & carb\\\\\n",
       "  & <dbl> & <dbl> & <dbl> & <dbl> & <dbl> & <dbl> & <dbl> & <dbl> & <dbl> & <dbl> & <dbl>\\\\\n",
       "\\hline\n",
       "\tMazda RX4 & 21.0 & 6 & 160.0 & 110 & 3.90 & 1000.000 & 16.46 & 0 & 1 & 4 & 4\\\\\n",
       "\tMazda RX4 Wag & 21.0 & 6 & 160.0 & 110 & 3.90 & 1000.000 & 17.02 & 0 & 1 & 4 & 4\\\\\n",
       "\tDatsun 710 & 22.8 & 4 & 108.0 &  93 & 3.85 & 1000.000 & 18.61 & 1 & 1 & 4 & 1\\\\\n",
       "\tHornet 4 Drive & 21.4 & 6 & 258.0 & 110 & 3.08 & 1000.000 & 19.44 & 1 & 0 & 3 & 1\\\\\n",
       "\tHornet Sportabout & 18.7 & 8 & 360.0 & 175 & 3.15 &    3.440 & 17.02 & 0 & 0 & 3 & 2\\\\\n",
       "\tValiant & 18.1 & 6 & 225.0 & 105 & 2.76 &    3.460 & 20.22 & 1 & 0 & 3 & 1\\\\\n",
       "\tDuster 360 & 14.3 & 8 & 360.0 & 245 & 3.21 &    3.570 & 15.84 & 0 & 0 & 3 & 4\\\\\n",
       "\tMerc 240D & 24.4 & 4 & 146.7 &  62 & 3.69 & 1000.000 & 20.00 & 1 & 0 & 4 & 2\\\\\n",
       "\tMerc 230 & 22.8 & 4 & 140.8 &  95 & 3.92 & 1000.000 & 22.90 & 1 & 0 & 4 & 2\\\\\n",
       "\tMerc 280 & 19.2 & 6 & 167.6 & 123 & 3.92 &    3.440 & 18.30 & 1 & 0 & 4 & 4\\\\\n",
       "\tMerc 280C & 17.8 & 6 & 167.6 & 123 & 3.92 &    3.440 & 18.90 & 1 & 0 & 4 & 4\\\\\n",
       "\tMerc 450SE & 16.4 & 8 & 275.8 & 180 & 3.07 &    4.070 & 17.40 & 0 & 0 & 3 & 3\\\\\n",
       "\tMerc 450SL & 17.3 & 8 & 275.8 & 180 & 3.07 &    3.730 & 17.60 & 0 & 0 & 3 & 3\\\\\n",
       "\tMerc 450SLC & 15.2 & 8 & 275.8 & 180 & 3.07 &    3.780 & 18.00 & 0 & 0 & 3 & 3\\\\\n",
       "\tCadillac Fleetwood & 10.4 & 8 & 472.0 & 205 & 2.93 &    5.250 & 17.98 & 0 & 0 & 3 & 4\\\\\n",
       "\tLincoln Continental & 10.4 & 8 & 460.0 & 215 & 3.00 &    5.424 & 17.82 & 0 & 0 & 3 & 4\\\\\n",
       "\tChrysler Imperial & 14.7 & 8 & 440.0 & 230 & 3.23 &    5.345 & 17.42 & 0 & 0 & 3 & 4\\\\\n",
       "\tFiat 128 & 32.4 & 4 &  78.7 &  66 & 4.08 & 1000.000 & 19.47 & 1 & 1 & 4 & 1\\\\\n",
       "\tHonda Civic & 30.4 & 4 &  75.7 &  52 & 4.93 & 1000.000 & 18.52 & 1 & 1 & 4 & 2\\\\\n",
       "\tToyota Corolla & 33.9 & 4 &  71.1 &  65 & 4.22 & 1000.000 & 19.90 & 1 & 1 & 4 & 1\\\\\n",
       "\tToyota Corona & 21.5 & 4 & 120.1 &  97 & 3.70 & 1000.000 & 20.01 & 1 & 0 & 3 & 1\\\\\n",
       "\tDodge Challenger & 15.5 & 8 & 318.0 & 150 & 2.76 &    3.520 & 16.87 & 0 & 0 & 3 & 2\\\\\n",
       "\tAMC Javelin & 15.2 & 8 & 304.0 & 150 & 3.15 &    3.435 & 17.30 & 0 & 0 & 3 & 2\\\\\n",
       "\tCamaro Z28 & 13.3 & 8 & 350.0 & 245 & 3.73 &    3.840 & 15.41 & 0 & 0 & 3 & 4\\\\\n",
       "\tPontiac Firebird & 19.2 & 8 & 400.0 & 175 & 3.08 &    3.845 & 17.05 & 0 & 0 & 3 & 2\\\\\n",
       "\tFiat X1-9 & 27.3 & 4 &  79.0 &  66 & 4.08 & 1000.000 & 18.90 & 1 & 1 & 4 & 1\\\\\n",
       "\tPorsche 914-2 & 26.0 & 4 & 120.3 &  91 & 4.43 & 1000.000 & 16.70 & 0 & 1 & 5 & 2\\\\\n",
       "\tLotus Europa & 30.4 & 4 &  95.1 & 113 & 3.77 & 1000.000 & 16.90 & 1 & 1 & 5 & 2\\\\\n",
       "\tFord Pantera L & 15.8 & 8 & 351.0 & 264 & 4.22 &    3.170 & 14.50 & 0 & 1 & 5 & 4\\\\\n",
       "\tFerrari Dino & 19.7 & 6 & 145.0 & 175 & 3.62 &    2.770 & 15.50 & 0 & 1 & 5 & 6\\\\\n",
       "\tMaserati Bora & 15.0 & 8 & 301.0 & 335 & 3.54 &    3.570 & 14.60 & 0 & 1 & 5 & 8\\\\\n",
       "\tVolvo 142E & 21.4 & 4 & 121.0 & 109 & 4.11 & 1000.000 & 18.60 & 1 & 1 & 4 & 2\\\\\n",
       "\\end{tabular}\n"
      ],
      "text/markdown": [
       "\n",
       "A data.frame: 32 × 11\n",
       "\n",
       "| <!--/--> | mpg &lt;dbl&gt; | cyl &lt;dbl&gt; | disp &lt;dbl&gt; | hp &lt;dbl&gt; | drat &lt;dbl&gt; | wt &lt;dbl&gt; | qsec &lt;dbl&gt; | vs &lt;dbl&gt; | am &lt;dbl&gt; | gear &lt;dbl&gt; | carb &lt;dbl&gt; |\n",
       "|---|---|---|---|---|---|---|---|---|---|---|---|\n",
       "| Mazda RX4 | 21.0 | 6 | 160.0 | 110 | 3.90 | 1000.000 | 16.46 | 0 | 1 | 4 | 4 |\n",
       "| Mazda RX4 Wag | 21.0 | 6 | 160.0 | 110 | 3.90 | 1000.000 | 17.02 | 0 | 1 | 4 | 4 |\n",
       "| Datsun 710 | 22.8 | 4 | 108.0 |  93 | 3.85 | 1000.000 | 18.61 | 1 | 1 | 4 | 1 |\n",
       "| Hornet 4 Drive | 21.4 | 6 | 258.0 | 110 | 3.08 | 1000.000 | 19.44 | 1 | 0 | 3 | 1 |\n",
       "| Hornet Sportabout | 18.7 | 8 | 360.0 | 175 | 3.15 |    3.440 | 17.02 | 0 | 0 | 3 | 2 |\n",
       "| Valiant | 18.1 | 6 | 225.0 | 105 | 2.76 |    3.460 | 20.22 | 1 | 0 | 3 | 1 |\n",
       "| Duster 360 | 14.3 | 8 | 360.0 | 245 | 3.21 |    3.570 | 15.84 | 0 | 0 | 3 | 4 |\n",
       "| Merc 240D | 24.4 | 4 | 146.7 |  62 | 3.69 | 1000.000 | 20.00 | 1 | 0 | 4 | 2 |\n",
       "| Merc 230 | 22.8 | 4 | 140.8 |  95 | 3.92 | 1000.000 | 22.90 | 1 | 0 | 4 | 2 |\n",
       "| Merc 280 | 19.2 | 6 | 167.6 | 123 | 3.92 |    3.440 | 18.30 | 1 | 0 | 4 | 4 |\n",
       "| Merc 280C | 17.8 | 6 | 167.6 | 123 | 3.92 |    3.440 | 18.90 | 1 | 0 | 4 | 4 |\n",
       "| Merc 450SE | 16.4 | 8 | 275.8 | 180 | 3.07 |    4.070 | 17.40 | 0 | 0 | 3 | 3 |\n",
       "| Merc 450SL | 17.3 | 8 | 275.8 | 180 | 3.07 |    3.730 | 17.60 | 0 | 0 | 3 | 3 |\n",
       "| Merc 450SLC | 15.2 | 8 | 275.8 | 180 | 3.07 |    3.780 | 18.00 | 0 | 0 | 3 | 3 |\n",
       "| Cadillac Fleetwood | 10.4 | 8 | 472.0 | 205 | 2.93 |    5.250 | 17.98 | 0 | 0 | 3 | 4 |\n",
       "| Lincoln Continental | 10.4 | 8 | 460.0 | 215 | 3.00 |    5.424 | 17.82 | 0 | 0 | 3 | 4 |\n",
       "| Chrysler Imperial | 14.7 | 8 | 440.0 | 230 | 3.23 |    5.345 | 17.42 | 0 | 0 | 3 | 4 |\n",
       "| Fiat 128 | 32.4 | 4 |  78.7 |  66 | 4.08 | 1000.000 | 19.47 | 1 | 1 | 4 | 1 |\n",
       "| Honda Civic | 30.4 | 4 |  75.7 |  52 | 4.93 | 1000.000 | 18.52 | 1 | 1 | 4 | 2 |\n",
       "| Toyota Corolla | 33.9 | 4 |  71.1 |  65 | 4.22 | 1000.000 | 19.90 | 1 | 1 | 4 | 1 |\n",
       "| Toyota Corona | 21.5 | 4 | 120.1 |  97 | 3.70 | 1000.000 | 20.01 | 1 | 0 | 3 | 1 |\n",
       "| Dodge Challenger | 15.5 | 8 | 318.0 | 150 | 2.76 |    3.520 | 16.87 | 0 | 0 | 3 | 2 |\n",
       "| AMC Javelin | 15.2 | 8 | 304.0 | 150 | 3.15 |    3.435 | 17.30 | 0 | 0 | 3 | 2 |\n",
       "| Camaro Z28 | 13.3 | 8 | 350.0 | 245 | 3.73 |    3.840 | 15.41 | 0 | 0 | 3 | 4 |\n",
       "| Pontiac Firebird | 19.2 | 8 | 400.0 | 175 | 3.08 |    3.845 | 17.05 | 0 | 0 | 3 | 2 |\n",
       "| Fiat X1-9 | 27.3 | 4 |  79.0 |  66 | 4.08 | 1000.000 | 18.90 | 1 | 1 | 4 | 1 |\n",
       "| Porsche 914-2 | 26.0 | 4 | 120.3 |  91 | 4.43 | 1000.000 | 16.70 | 0 | 1 | 5 | 2 |\n",
       "| Lotus Europa | 30.4 | 4 |  95.1 | 113 | 3.77 | 1000.000 | 16.90 | 1 | 1 | 5 | 2 |\n",
       "| Ford Pantera L | 15.8 | 8 | 351.0 | 264 | 4.22 |    3.170 | 14.50 | 0 | 1 | 5 | 4 |\n",
       "| Ferrari Dino | 19.7 | 6 | 145.0 | 175 | 3.62 |    2.770 | 15.50 | 0 | 1 | 5 | 6 |\n",
       "| Maserati Bora | 15.0 | 8 | 301.0 | 335 | 3.54 |    3.570 | 14.60 | 0 | 1 | 5 | 8 |\n",
       "| Volvo 142E | 21.4 | 4 | 121.0 | 109 | 4.11 | 1000.000 | 18.60 | 1 | 1 | 4 | 2 |\n",
       "\n"
      ],
      "text/plain": [
       "                    mpg  cyl disp  hp  drat wt       qsec  vs am gear carb\n",
       "Mazda RX4           21.0 6   160.0 110 3.90 1000.000 16.46 0  1  4    4   \n",
       "Mazda RX4 Wag       21.0 6   160.0 110 3.90 1000.000 17.02 0  1  4    4   \n",
       "Datsun 710          22.8 4   108.0  93 3.85 1000.000 18.61 1  1  4    1   \n",
       "Hornet 4 Drive      21.4 6   258.0 110 3.08 1000.000 19.44 1  0  3    1   \n",
       "Hornet Sportabout   18.7 8   360.0 175 3.15    3.440 17.02 0  0  3    2   \n",
       "Valiant             18.1 6   225.0 105 2.76    3.460 20.22 1  0  3    1   \n",
       "Duster 360          14.3 8   360.0 245 3.21    3.570 15.84 0  0  3    4   \n",
       "Merc 240D           24.4 4   146.7  62 3.69 1000.000 20.00 1  0  4    2   \n",
       "Merc 230            22.8 4   140.8  95 3.92 1000.000 22.90 1  0  4    2   \n",
       "Merc 280            19.2 6   167.6 123 3.92    3.440 18.30 1  0  4    4   \n",
       "Merc 280C           17.8 6   167.6 123 3.92    3.440 18.90 1  0  4    4   \n",
       "Merc 450SE          16.4 8   275.8 180 3.07    4.070 17.40 0  0  3    3   \n",
       "Merc 450SL          17.3 8   275.8 180 3.07    3.730 17.60 0  0  3    3   \n",
       "Merc 450SLC         15.2 8   275.8 180 3.07    3.780 18.00 0  0  3    3   \n",
       "Cadillac Fleetwood  10.4 8   472.0 205 2.93    5.250 17.98 0  0  3    4   \n",
       "Lincoln Continental 10.4 8   460.0 215 3.00    5.424 17.82 0  0  3    4   \n",
       "Chrysler Imperial   14.7 8   440.0 230 3.23    5.345 17.42 0  0  3    4   \n",
       "Fiat 128            32.4 4    78.7  66 4.08 1000.000 19.47 1  1  4    1   \n",
       "Honda Civic         30.4 4    75.7  52 4.93 1000.000 18.52 1  1  4    2   \n",
       "Toyota Corolla      33.9 4    71.1  65 4.22 1000.000 19.90 1  1  4    1   \n",
       "Toyota Corona       21.5 4   120.1  97 3.70 1000.000 20.01 1  0  3    1   \n",
       "Dodge Challenger    15.5 8   318.0 150 2.76    3.520 16.87 0  0  3    2   \n",
       "AMC Javelin         15.2 8   304.0 150 3.15    3.435 17.30 0  0  3    2   \n",
       "Camaro Z28          13.3 8   350.0 245 3.73    3.840 15.41 0  0  3    4   \n",
       "Pontiac Firebird    19.2 8   400.0 175 3.08    3.845 17.05 0  0  3    2   \n",
       "Fiat X1-9           27.3 4    79.0  66 4.08 1000.000 18.90 1  1  4    1   \n",
       "Porsche 914-2       26.0 4   120.3  91 4.43 1000.000 16.70 0  1  5    2   \n",
       "Lotus Europa        30.4 4    95.1 113 3.77 1000.000 16.90 1  1  5    2   \n",
       "Ford Pantera L      15.8 8   351.0 264 4.22    3.170 14.50 0  1  5    4   \n",
       "Ferrari Dino        19.7 6   145.0 175 3.62    2.770 15.50 0  1  5    6   \n",
       "Maserati Bora       15.0 8   301.0 335 3.54    3.570 14.60 0  1  5    8   \n",
       "Volvo 142E          21.4 4   121.0 109 4.11 1000.000 18.60 1  1  4    2   "
      ]
     },
     "metadata": {},
     "output_type": "display_data"
    }
   ],
   "source": [
    "# your code here\n",
    "a2.8 <- mtcars\n",
    "a2.8$wt[a2.8$mpg > 20] <- 1000\n",
    "a2.8"
   ]
  },
  {
   "cell_type": "code",
   "execution_count": 26,
   "metadata": {
    "deletable": false,
    "editable": false,
    "nbgrader": {
     "cell_type": "code",
     "checksum": "6f32b9f08b27d8d3a2ab7fb3afdeca40",
     "grade": true,
     "grade_id": "cell-a7ccb382245ad4e6",
     "locked": true,
     "points": 0,
     "schema_version": 3,
     "solution": false,
     "task": false
    }
   },
   "outputs": [
    {
     "name": "stdout",
     "output_type": "stream",
     "text": [
      "[1] \"Success!\"\n"
     ]
    }
   ],
   "source": [
    "test_that(\"Question 2.8\", expect_known_hash(a2.8$wt, '4e56aa37c9e2888594cc7c360f784b70'))\n",
    "print(\"Success!\")"
   ]
  },
  {
   "cell_type": "markdown",
   "metadata": {
    "deletable": false,
    "editable": false,
    "lines_to_next_cell": 0,
    "nbgrader": {
     "cell_type": "markdown",
     "checksum": "19f56d144fce514c34d8646510a04b7a",
     "grade": false,
     "grade_id": "cell-ebce2cf9fcfbd426",
     "locked": true,
     "schema_version": 3,
     "solution": false,
     "task": false
    }
   },
   "source": [
    "## TOPIC 3: Reprex\n",
    "\n",
    "If you haven't done question 1.4, then do the following before attempting questions for this section:\n",
    "\n",
    "- in your file browser go to the location returned by `here::here()` and create a folder called **\"worksheet_06a_data\"**.\n",
    "\n",
    "#### Question 3.1\n",
    "\n",
    "Create a reprex for the code and output of `mean(rnorm(10))`. Specify the output folder to be **worksheet_06_data**.\n",
    "\n",
    "After doing this, I encourage you to open up the output files and take a look at your reprex!\n",
    "\n",
    "```\n",
    "reprex(FILL_THIS_IN, \n",
    "       outfile = here::here('FILL_THIS_IN', 'reprex.md'))\n",
    "```\n"
   ]
  },
  {
   "cell_type": "code",
   "execution_count": 29,
   "metadata": {
    "deletable": false,
    "nbgrader": {
     "cell_type": "code",
     "checksum": "2cf0318bece693000ad1f616a5aa3294",
     "grade": false,
     "grade_id": "cell-0bb222125a2b34c3",
     "locked": false,
     "schema_version": 3,
     "solution": true,
     "task": false
    }
   },
   "outputs": [
    {
     "name": "stderr",
     "output_type": "stream",
     "text": [
      "Warning message in file(con, \"w\"):\n",
      "“cannot open file '/home/jupyter/Wworksheet_06a_data/reprex_reprex.R': No such file or directory”\n"
     ]
    },
    {
     "ename": "ERROR",
     "evalue": "Error in file(con, \"w\"): cannot open the connection\n",
     "output_type": "error",
     "traceback": [
      "Error in file(con, \"w\"): cannot open the connection\nTraceback:\n",
      "1. reprex(mean(rnorm(10)), outfile = here::here(\"Wworksheet_06a_data\", \n .     \"reprex.md\"))",
      "2. writeLines(src, r_file)",
      "3. file(con, \"w\")"
     ]
    }
   ],
   "source": [
    "# your code here\n",
    "reprex(mean(rnorm(10)), \n",
    "       outfile = here::here('Worksheet_06_data', 'reprex.md'))"
   ]
  },
  {
   "cell_type": "code",
   "execution_count": null,
   "metadata": {
    "deletable": false,
    "editable": false,
    "nbgrader": {
     "cell_type": "code",
     "checksum": "9dd762e33b69ec78c187d91b55d65db6",
     "grade": true,
     "grade_id": "cell-ac08f96917e07d1b",
     "locked": true,
     "points": 0,
     "schema_version": 3,
     "solution": false,
     "task": false
    }
   },
   "outputs": [],
   "source": [
    "test_that(\"Question 3.1\", {\n",
    "    expect_true(file.exists(here::here('worksheet_06a_data', 'reprex_reprex.md')))\n",
    "    expect_true(file.exists(here::here('worksheet_06a_data', 'reprex_reprex.R')))\n",
    "    expect_known_hash(gsub('\\\\s', '', paste0(readLines(here::here('worksheet_06a_data', 'reprex_reprex.R')), collapse = '')), \n",
    "                      '41311107e8e35738e6e60c14e8d78a65')\n",
    "})\n",
    "print(\"Success!\")"
   ]
  }
 ],
 "metadata": {
  "jupytext": {
   "cell_metadata_filter": "-all"
  },
  "kernelspec": {
   "display_name": "R",
   "language": "R",
   "name": "ir"
  },
  "language_info": {
   "codemirror_mode": "r",
   "file_extension": ".r",
   "mimetype": "text/x-r-source",
   "name": "R",
   "pygments_lexer": "r",
   "version": "4.0.2"
  }
 },
 "nbformat": 4,
 "nbformat_minor": 4
}
